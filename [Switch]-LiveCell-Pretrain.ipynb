{
 "cells": [
  {
   "cell_type": "code",
   "execution_count": 1,
   "metadata": {
    "execution": {
     "iopub.execute_input": "2021-11-14T11:47:04.760515Z",
     "iopub.status.busy": "2021-11-14T11:47:04.760004Z",
     "iopub.status.idle": "2021-11-14T11:48:22.754686Z",
     "shell.execute_reply": "2021-11-14T11:48:22.753315Z",
     "shell.execute_reply.started": "2021-11-14T11:47:04.760407Z"
    }
   },
   "outputs": [],
   "source": [
    "#!pip install --user torch==1.9.0 torchvision==0.10.0 torchaudio==0.9.0 torchtext==0.10.0"
   ]
  },
  {
   "cell_type": "code",
   "execution_count": null,
   "metadata": {},
   "outputs": [],
   "source": [
    "#!pip install timm"
   ]
  },
  {
   "cell_type": "markdown",
   "metadata": {},
   "source": [
    "### Imports"
   ]
  },
  {
   "cell_type": "code",
   "execution_count": 1,
   "metadata": {
    "_cell_guid": "b1076dfc-b9ad-4769-8c92-a6c4dae69d19",
    "_uuid": "8f2839f25d086af736a60e9eeb907d3b93b6e0e5",
    "execution": {
     "iopub.execute_input": "2021-11-14T11:48:22.759174Z",
     "iopub.status.busy": "2021-11-14T11:48:22.758572Z",
     "iopub.status.idle": "2021-11-14T11:48:24.699264Z",
     "shell.execute_reply": "2021-11-14T11:48:24.6983Z",
     "shell.execute_reply.started": "2021-11-14T11:48:22.759123Z"
    }
   },
   "outputs": [],
   "source": [
    "from fastai.vision.all import *\n",
    "import tqdm\n",
    "\n",
    "\n",
    "from timm import create_model\n",
    "from fastai.vision.learner import _update_first_layer\n",
    "import gc"
   ]
  },
  {
   "cell_type": "code",
   "execution_count": 2,
   "metadata": {
    "execution": {
     "iopub.execute_input": "2021-11-14T11:48:24.701178Z",
     "iopub.status.busy": "2021-11-14T11:48:24.700917Z",
     "iopub.status.idle": "2021-11-14T11:48:25.244834Z",
     "shell.execute_reply": "2021-11-14T11:48:25.243748Z",
     "shell.execute_reply.started": "2021-11-14T11:48:24.701141Z"
    },
    "scrolled": true
   },
   "outputs": [
    {
     "name": "stderr",
     "output_type": "stream",
     "text": [
      "/home/karrrrrrrr/miniconda3/envs/fastai/lib/python3.8/site-packages/numpy/lib/arraysetops.py:583: FutureWarning: elementwise comparison failed; returning scalar instead, but in the future will perform elementwise comparison\n",
      "  mask |= (ar1 == a)\n"
     ]
    }
   ],
   "source": [
    "path = Path('src/LIVECell_dataset_2021')\n",
    "img_path = path / 'images/png'\n",
    "mask_path = path / 'images/masks'\n",
    "\n",
    "df = pd.read_csv(path / 'livecell_train_val.csv', index_col = 0)"
   ]
  },
  {
   "cell_type": "code",
   "execution_count": 3,
   "metadata": {
    "execution": {
     "iopub.execute_input": "2021-11-14T11:48:25.247827Z",
     "iopub.status.busy": "2021-11-14T11:48:25.247514Z",
     "iopub.status.idle": "2021-11-14T11:48:25.275097Z",
     "shell.execute_reply": "2021-11-14T11:48:25.27411Z",
     "shell.execute_reply.started": "2021-11-14T11:48:25.247784Z"
    },
    "scrolled": true
   },
   "outputs": [
    {
     "data": {
      "text/html": [
       "<div>\n",
       "<style scoped>\n",
       "    .dataframe tbody tr th:only-of-type {\n",
       "        vertical-align: middle;\n",
       "    }\n",
       "\n",
       "    .dataframe tbody tr th {\n",
       "        vertical-align: top;\n",
       "    }\n",
       "\n",
       "    .dataframe thead th {\n",
       "        text-align: right;\n",
       "    }\n",
       "</style>\n",
       "<table border=\"1\" class=\"dataframe\">\n",
       "  <thead>\n",
       "    <tr style=\"text-align: right;\">\n",
       "      <th></th>\n",
       "      <th>id</th>\n",
       "      <th>file_name</th>\n",
       "      <th>width</th>\n",
       "      <th>height</th>\n",
       "      <th>segmentation</th>\n",
       "      <th>area</th>\n",
       "      <th>bbox</th>\n",
       "      <th>iscrowd</th>\n",
       "      <th>is_valid</th>\n",
       "      <th>cell_type</th>\n",
       "    </tr>\n",
       "  </thead>\n",
       "  <tbody>\n",
       "    <tr>\n",
       "      <th>1200185</th>\n",
       "      <td>1617270</td>\n",
       "      <td>SHSY5Y_Phase_B10_2_00d16h00m_2</td>\n",
       "      <td>704</td>\n",
       "      <td>520</td>\n",
       "      <td>[[334.61, 146.01, 333.52, 147.11, 332.26, 148.05, 331.32, 148.84, 329.75, 149.31, 327.87, 150.41, 326.14, 151.5, 323.94, 152.92, 321.9, 154.64, 319.86, 156.05, 319.71, 156.21, 319.71, 156.21, 319.24, 155.11, 318.29, 153.7, 317.51, 150.56, 317.35, 146.95, 316.73, 143.5, 316.88, 141.15, 317.35, 138.01, 318.45, 135.81, 320.02, 133.62, 321.43, 130.32, 321.9, 127.03, 322.22, 121.85, 323.0, 114.79, 323.0, 106.79, 324.57, 108.2, 325.98, 111.34, 327.08, 114.0, 326.92, 116.2, 326.61, 118.55, 326.3, 120.91, 326.14, 123.73, 326.14, 126.56, 326.3, 128.75, 327.4, 130.32, 328.65, 132.36, 330.22, 132.36,...</td>\n",
       "      <td>809.03835</td>\n",
       "      <td>[316.73, 106.79, 50.20999999999998, 49.42]</td>\n",
       "      <td>0</td>\n",
       "      <td>True</td>\n",
       "      <td>SHSY5Y</td>\n",
       "    </tr>\n",
       "  </tbody>\n",
       "</table>\n",
       "</div>"
      ],
      "text/plain": [
       "              id                       file_name  width  height  \\\n",
       "1200185  1617270  SHSY5Y_Phase_B10_2_00d16h00m_2    704     520   \n",
       "\n",
       "                                                                                                                                                                                                                                                                                                                                                                                                                                                                                                                                                                                                                    segmentation  \\\n",
       "1200185  [[334.61, 146.01, 333.52, 147.11, 332.26, 148.05, 331.32, 148.84, 329.75, 149.31, 327.87, 150.41, 326.14, 151.5, 323.94, 152.92, 321.9, 154.64, 319.86, 156.05, 319.71, 156.21, 319.71, 156.21, 319.24, 155.11, 318.29, 153.7, 317.51, 150.56, 317.35, 146.95, 316.73, 143.5, 316.88, 141.15, 317.35, 138.01, 318.45, 135.81, 320.02, 133.62, 321.43, 130.32, 321.9, 127.03, 322.22, 121.85, 323.0, 114.79, 323.0, 106.79, 324.57, 108.2, 325.98, 111.34, 327.08, 114.0, 326.92, 116.2, 326.61, 118.55, 326.3, 120.91, 326.14, 123.73, 326.14, 126.56, 326.3, 128.75, 327.4, 130.32, 328.65, 132.36, 330.22, 132.36,...   \n",
       "\n",
       "              area                                        bbox  iscrowd  \\\n",
       "1200185  809.03835  [316.73, 106.79, 50.20999999999998, 49.42]        0   \n",
       "\n",
       "         is_valid cell_type  \n",
       "1200185      True    SHSY5Y  "
      ]
     },
     "execution_count": 3,
     "metadata": {},
     "output_type": "execute_result"
    }
   ],
   "source": [
    "df.tail(1)"
   ]
  },
  {
   "cell_type": "markdown",
   "metadata": {},
   "source": [
    "### Label functions for classification & segmentation"
   ]
  },
  {
   "cell_type": "code",
   "execution_count": 4,
   "metadata": {
    "execution": {
     "iopub.execute_input": "2021-11-14T11:48:25.277038Z",
     "iopub.status.busy": "2021-11-14T11:48:25.276699Z",
     "iopub.status.idle": "2021-11-14T11:48:25.28283Z",
     "shell.execute_reply": "2021-11-14T11:48:25.281224Z",
     "shell.execute_reply.started": "2021-11-14T11:48:25.276996Z"
    }
   },
   "outputs": [],
   "source": [
    "def mask_label_func(fn):\n",
    "    return mask_path / fn.name"
   ]
  },
  {
   "cell_type": "code",
   "execution_count": 5,
   "metadata": {},
   "outputs": [],
   "source": [
    "def class_label_func(fn):\n",
    "    return re.search('(.*)_Phase.*',fn.stem).group(1)"
   ]
  },
  {
   "cell_type": "markdown",
   "metadata": {},
   "source": [
    "### Use the same train/val split troughout the switch training, to get reliable metrics."
   ]
  },
  {
   "cell_type": "code",
   "execution_count": null,
   "metadata": {},
   "outputs": [],
   "source": [
    "df['is_valid'] = False\n",
    "\n",
    "val_ids = np.random.choice(df.id.unique(), size = int(606 * 0.2))\n",
    "df.loc[df.id.isin(val_ids), 'is_valid'] = True"
   ]
  },
  {
   "cell_type": "code",
   "execution_count": null,
   "metadata": {},
   "outputs": [],
   "source": [
    "#is_val_fns = df.loc[df.is_valid == 1, 'file_name'].unique()\n",
    "#is_train_fns = df.loc[df.is_valid == 0, 'file_name'].unique()\n",
    "\n",
    "def is_valid(fn):\n",
    "    return fn.stem in val_ids"
   ]
  },
  {
   "cell_type": "code",
   "execution_count": null,
   "metadata": {},
   "outputs": [],
   "source": [
    "def MySplitter():\n",
    "    def _inner(o):\n",
    "        train_idx = o.argwhere(is_valid, negate = True)\n",
    "        val_idx = o.argwhere(is_valid)    \n",
    "        return train_idx, val_idx\n",
    "    return _inner"
   ]
  },
  {
   "cell_type": "markdown",
   "metadata": {},
   "source": [
    "### Training Parameters"
   ]
  },
  {
   "cell_type": "code",
   "execution_count": 7,
   "metadata": {},
   "outputs": [],
   "source": [
    "TASKS = ['class', 'mask']\n",
    "SIZES = [(224, 303), (336, 455), (448, 606)]\n",
    "DEBUG = True"
   ]
  },
  {
   "cell_type": "markdown",
   "metadata": {},
   "source": [
    "### Shrink dataset for debuging / prototyping"
   ]
  },
  {
   "cell_type": "code",
   "execution_count": 8,
   "metadata": {
    "execution": {
     "iopub.execute_input": "2021-11-14T11:48:25.286173Z",
     "iopub.status.busy": "2021-11-14T11:48:25.284948Z",
     "iopub.status.idle": "2021-11-14T11:48:25.389521Z",
     "shell.execute_reply": "2021-11-14T11:48:25.388607Z",
     "shell.execute_reply.started": "2021-11-14T11:48:25.286125Z"
    },
    "scrolled": true
   },
   "outputs": [
    {
     "name": "stdout",
     "output_type": "stream",
     "text": [
      "4184\n",
      "865\n"
     ]
    }
   ],
   "source": [
    "items = get_image_files(img_path)\n",
    "print(len(items))\n",
    "unique_files = df.file_name.unique()\n",
    "if DEBUG:\n",
    "    unique_files = np.random.choice(unique_files, 1000)\n",
    "items = L([fn for fn in items if fn.stem in unique_files])\n",
    "print(len(items))\n",
    "fn = items[0]\n",
    "img_rgb = load_image(fn)"
   ]
  },
  {
   "cell_type": "markdown",
   "metadata": {},
   "source": [
    "### Build Dataloaders"
   ]
  },
  {
   "cell_type": "code",
   "execution_count": 52,
   "metadata": {},
   "outputs": [],
   "source": [
    "def get_all(path):\n",
    "    items = get_image_files(path)\n",
    "    if DEBUG:\n",
    "        unique_files = np.random.choice(items, 500)\n",
    "    return L(*unique_files)"
   ]
  },
  {
   "cell_type": "code",
   "execution_count": 54,
   "metadata": {},
   "outputs": [],
   "source": [
    "def get_dls(src_path, task, size, bs_mult = 1):\n",
    "    if task == 'mask':\n",
    "        print('Build dataloaders for segmentation.')\n",
    "        TaskBlock = (MaskBlock(codes = np.array(['bg', 'cell'])),)\n",
    "        label_func = mask_label_func\n",
    "        bs = 1 * bs_mult\n",
    "        get_items = get_annotated\n",
    "        \n",
    "    if task == 'class':\n",
    "        print('Build dataloaders for classification.')\n",
    "        TaskBlock = (CategoryBlock(),)\n",
    "        label_func = class_label_func\n",
    "        bs = 4 * bs_mult\n",
    "        get_items = get_all\n",
    "        \n",
    "    db = DataBlock(\n",
    "        blocks = (ImageBlock(), *TaskBlock),\n",
    "        get_items = get_items,\n",
    "        get_y = label_func,\n",
    "        splitter = RandomSplitter(),\n",
    "        item_tfms = Resize((448, 606)),\n",
    "        batch_tfms = [*aug_transforms(size = size, \n",
    "                                    flip_vert = True, \n",
    "                                    max_rotate = 180., \n",
    "                                    max_warp = 0.\n",
    "                                   ),\n",
    "                      Normalize.from_stats(*imagenet_stats)\n",
    "                     ],\n",
    "        n_inp = 1\n",
    "    )\n",
    "    print(f'Using batch size of: {bs} and image size of: {size}')\n",
    "    return db.dataloaders(src_path, bs = bs)"
   ]
  },
  {
   "cell_type": "markdown",
   "metadata": {},
   "source": [
    "### Build Model"
   ]
  },
  {
   "cell_type": "code",
   "execution_count": 66,
   "metadata": {},
   "outputs": [],
   "source": [
    "def create_timm_body(arch:str, pretrained=True, cut=None, n_in=3):\n",
    "    \"Creates a body from any model in the `timm` library.\"\n",
    "    model = create_model(arch, pretrained=pretrained, num_classes=0, global_pool='')\n",
    "    _update_first_layer(model, n_in, pretrained)\n",
    "    if cut is None:\n",
    "        ll = list(enumerate(model.children()))\n",
    "        cut = next(i for i,o in reversed(ll) if has_pool_type(o))\n",
    "    if isinstance(cut, int): \n",
    "        return nn.Sequential(*list(model.children())[:cut])\n",
    "    elif callable(cut): \n",
    "        return cut(model)\n",
    "    else: \n",
    "        raise NamedError(\"cut must be either integer or function\")"
   ]
  },
  {
   "cell_type": "markdown",
   "metadata": {},
   "source": [
    "### Build Learner"
   ]
  },
  {
   "cell_type": "code",
   "execution_count": 122,
   "metadata": {},
   "outputs": [],
   "source": [
    "def get_learner(task, dls, arch, learner_ex, encoder_ex = False, with_opt = False):\n",
    "\n",
    "    body = create_timm_body(arch, pretrained = True)\n",
    "    n_out = get_c(dls)\n",
    "\n",
    "    if task == 'mask':\n",
    "        img_size = dls.one_batch()[0].shape[-2:]\n",
    "        model = models.unet.DynamicUnet(body, n_out, img_size, self_attention = True)\n",
    "        metrics = [Dice, JaccardCoeff]\n",
    "\n",
    "    if task == 'class':\n",
    "        nf = num_features_model(nn.Sequential(*body.children()))\n",
    "        head = create_head(nf, n_out, ps = 0.5)\n",
    "        model = nn.Sequential(body, head)\n",
    "        apply_init(model[1], nn.init.kaiming_normal_)\n",
    "        metrics = accuracy\n",
    "\n",
    "    print(f'Create learner for task {task}')\n",
    "    learn = Learner(\n",
    "        dls,\n",
    "        model,\n",
    "        metrics = metrics,\n",
    "        splitter = default_split\n",
    "    ).to_fp16()\n",
    "    \n",
    "    if learner_ex[TASKS.index(task)]:\n",
    "        print(f'Load pretrained model')\n",
    "        #learn = load_learner(f'{task}_{arch}_learner.pkl', cpu = False)\n",
    "        #learn.dls = dls\n",
    "        learn.load(f'{task}_{arch}_learner', with_opt = with_opt)\n",
    "    \n",
    "    if encoder_ex:\n",
    "        print('Load encoder from previous task')\n",
    "        load_model(f'{arch}_encoder.pkl', learn.model[0], opt=None, with_opt=False)\n",
    "    else:\n",
    "        print('Start training from scratch.')\n",
    "\n",
    "    return learn"
   ]
  },
  {
   "cell_type": "markdown",
   "metadata": {},
   "source": [
    "## Switch Test"
   ]
  },
  {
   "cell_type": "code",
   "execution_count": 125,
   "metadata": {},
   "outputs": [],
   "source": [
    "def switch_training(tasks, sizes, epochs, rounds, learner_ex, encoder_ex, lr = 1e-3, arch = 'resnet34', with_opt = False): #efficientnet_b3a\n",
    "    print('Multitask training with: ', arch)\n",
    "    for k, size in enumerate(sizes):\n",
    "        for i in range(rounds):\n",
    "            print(f'Start round no {i+1} with image size {size}')\n",
    "            for task in tasks:\n",
    "                if task == 'class':\n",
    "                    eps = epochs[0]\n",
    "                else:\n",
    "                    eps = epochs[1]\n",
    "                dls = get_dls(img_path, task, size, bs_mult = 1)\n",
    "                learn = get_learner(task, dls, arch, learner_ex, encoder_ex, with_opt = with_opt)\n",
    "                learn.fine_tune(eps, lr, cbs = CutMix(), freeze_epochs = 1)\n",
    "\n",
    "                # Save encoder for all tasks\n",
    "                encoder = get_model(learn.model)[0]\n",
    "                save_model(f'{arch}_encoder.pkl', encoder, opt = None, with_opt=False)\n",
    "                encoder_ex = True\n",
    "                # Save learner for specific task\n",
    "                #learn.export(f'{task}_{arch}_learner.pkl')\n",
    "                learn.save(f'{task}_{arch}_learner')\n",
    "                with_opt = True\n",
    "                learner_ex[TASKS.index(task)] = True\n",
    "\n",
    "                #Cleanup\n",
    "                if (size != None) & (task == 'mask'):\n",
    "                    print('Clean up')\n",
    "                    del(dls)\n",
    "                    del(learn)\n",
    "                    torch.cuda.empty_cache()\n",
    "                    gc.collect()\n",
    "                else:\n",
    "                    learn.export('mask_learner_final.pkl')\n",
    "                print(f'Done with task: {task}')\n",
    "            print(f'Finish round no: {i+1} with image size: {size}')"
   ]
  },
  {
   "cell_type": "code",
   "execution_count": 126,
   "metadata": {
    "scrolled": false
   },
   "outputs": [
    {
     "name": "stdout",
     "output_type": "stream",
     "text": [
      "Multitask training with:  resnet34\n",
      "Start round no: 0 with image size: (224, 303)\n",
      "Build dataloaders for classification.\n",
      "Using batch size of: 4 and image size of: (224, 303)\n",
      "Build classifier.\n",
      "Create new learner for task class\n",
      "Start training from scratch.\n"
     ]
    },
    {
     "data": {
      "text/html": [
       "<table border=\"1\" class=\"dataframe\">\n",
       "  <thead>\n",
       "    <tr style=\"text-align: left;\">\n",
       "      <th>epoch</th>\n",
       "      <th>train_loss</th>\n",
       "      <th>valid_loss</th>\n",
       "      <th>accuracy</th>\n",
       "      <th>time</th>\n",
       "    </tr>\n",
       "  </thead>\n",
       "  <tbody>\n",
       "    <tr>\n",
       "      <td>0</td>\n",
       "      <td>3.334918</td>\n",
       "      <td>1.492302</td>\n",
       "      <td>0.430000</td>\n",
       "      <td>00:04</td>\n",
       "    </tr>\n",
       "  </tbody>\n",
       "</table>"
      ],
      "text/plain": [
       "<IPython.core.display.HTML object>"
      ]
     },
     "metadata": {},
     "output_type": "display_data"
    },
    {
     "data": {
      "text/html": [
       "<table border=\"1\" class=\"dataframe\">\n",
       "  <thead>\n",
       "    <tr style=\"text-align: left;\">\n",
       "      <th>epoch</th>\n",
       "      <th>train_loss</th>\n",
       "      <th>valid_loss</th>\n",
       "      <th>accuracy</th>\n",
       "      <th>time</th>\n",
       "    </tr>\n",
       "  </thead>\n",
       "  <tbody>\n",
       "    <tr>\n",
       "      <td>0</td>\n",
       "      <td>2.707852</td>\n",
       "      <td>1.142073</td>\n",
       "      <td>0.580000</td>\n",
       "      <td>00:05</td>\n",
       "    </tr>\n",
       "  </tbody>\n",
       "</table>"
      ],
      "text/plain": [
       "<IPython.core.display.HTML object>"
      ]
     },
     "metadata": {},
     "output_type": "display_data"
    },
    {
     "name": "stdout",
     "output_type": "stream",
     "text": [
      "Clean up\n",
      "Done with task: class\n",
      "Build dataloaders for segmentation.\n",
      "Using batch size of: 1 and image size of: (224, 303)\n",
      "Build Unet learner.\n",
      "Create new learner for task mask\n",
      "Load encoder from previous task\n"
     ]
    },
    {
     "data": {
      "text/html": [
       "<table border=\"1\" class=\"dataframe\">\n",
       "  <thead>\n",
       "    <tr style=\"text-align: left;\">\n",
       "      <th>epoch</th>\n",
       "      <th>train_loss</th>\n",
       "      <th>valid_loss</th>\n",
       "      <th>dice</th>\n",
       "      <th>jaccard_coeff</th>\n",
       "      <th>time</th>\n",
       "    </tr>\n",
       "  </thead>\n",
       "  <tbody>\n",
       "    <tr>\n",
       "      <td>0</td>\n",
       "      <td>1.022464</td>\n",
       "      <td>0.405430</td>\n",
       "      <td>0.697332</td>\n",
       "      <td>0.535311</td>\n",
       "      <td>00:24</td>\n",
       "    </tr>\n",
       "  </tbody>\n",
       "</table>"
      ],
      "text/plain": [
       "<IPython.core.display.HTML object>"
      ]
     },
     "metadata": {},
     "output_type": "display_data"
    },
    {
     "data": {
      "text/html": [
       "<table border=\"1\" class=\"dataframe\">\n",
       "  <thead>\n",
       "    <tr style=\"text-align: left;\">\n",
       "      <th>epoch</th>\n",
       "      <th>train_loss</th>\n",
       "      <th>valid_loss</th>\n",
       "      <th>dice</th>\n",
       "      <th>jaccard_coeff</th>\n",
       "      <th>time</th>\n",
       "    </tr>\n",
       "  </thead>\n",
       "  <tbody>\n",
       "    <tr>\n",
       "      <td>0</td>\n",
       "      <td>0.256063</td>\n",
       "      <td>0.315576</td>\n",
       "      <td>0.852543</td>\n",
       "      <td>0.742985</td>\n",
       "      <td>00:28</td>\n",
       "    </tr>\n",
       "  </tbody>\n",
       "</table>"
      ],
      "text/plain": [
       "<IPython.core.display.HTML object>"
      ]
     },
     "metadata": {},
     "output_type": "display_data"
    },
    {
     "name": "stdout",
     "output_type": "stream",
     "text": [
      "Clean up\n",
      "Done with task: mask\n",
      "Finish round no: 0 with image size: (224, 303)\n",
      "Start round no: 1 with image size: (224, 303)\n",
      "Build dataloaders for classification.\n",
      "Using batch size of: 4 and image size of: (224, 303)\n",
      "Load pretrained learner for task: class\n",
      "Load encoder from previous task\n"
     ]
    },
    {
     "data": {
      "text/html": [
       "<table border=\"1\" class=\"dataframe\">\n",
       "  <thead>\n",
       "    <tr style=\"text-align: left;\">\n",
       "      <th>epoch</th>\n",
       "      <th>train_loss</th>\n",
       "      <th>valid_loss</th>\n",
       "      <th>accuracy</th>\n",
       "      <th>time</th>\n",
       "    </tr>\n",
       "  </thead>\n",
       "  <tbody>\n",
       "    <tr>\n",
       "      <td>0</td>\n",
       "      <td>2.449506</td>\n",
       "      <td>0.977844</td>\n",
       "      <td>0.610000</td>\n",
       "      <td>00:04</td>\n",
       "    </tr>\n",
       "  </tbody>\n",
       "</table>"
      ],
      "text/plain": [
       "<IPython.core.display.HTML object>"
      ]
     },
     "metadata": {},
     "output_type": "display_data"
    },
    {
     "data": {
      "text/html": [
       "<table border=\"1\" class=\"dataframe\">\n",
       "  <thead>\n",
       "    <tr style=\"text-align: left;\">\n",
       "      <th>epoch</th>\n",
       "      <th>train_loss</th>\n",
       "      <th>valid_loss</th>\n",
       "      <th>accuracy</th>\n",
       "      <th>time</th>\n",
       "    </tr>\n",
       "  </thead>\n",
       "  <tbody>\n",
       "    <tr>\n",
       "      <td>0</td>\n",
       "      <td>2.329289</td>\n",
       "      <td>0.835243</td>\n",
       "      <td>0.720000</td>\n",
       "      <td>00:05</td>\n",
       "    </tr>\n",
       "  </tbody>\n",
       "</table>"
      ],
      "text/plain": [
       "<IPython.core.display.HTML object>"
      ]
     },
     "metadata": {},
     "output_type": "display_data"
    },
    {
     "name": "stdout",
     "output_type": "stream",
     "text": [
      "Clean up\n",
      "Done with task: class\n",
      "Build dataloaders for segmentation.\n",
      "Using batch size of: 1 and image size of: (224, 303)\n",
      "Load pretrained learner for task: mask\n",
      "Load encoder from previous task\n"
     ]
    },
    {
     "data": {
      "text/html": [
       "<table border=\"1\" class=\"dataframe\">\n",
       "  <thead>\n",
       "    <tr style=\"text-align: left;\">\n",
       "      <th>epoch</th>\n",
       "      <th>train_loss</th>\n",
       "      <th>valid_loss</th>\n",
       "      <th>dice</th>\n",
       "      <th>jaccard_coeff</th>\n",
       "      <th>time</th>\n",
       "    </tr>\n",
       "  </thead>\n",
       "  <tbody>\n",
       "    <tr>\n",
       "      <td>0</td>\n",
       "      <td>0.289198</td>\n",
       "      <td>0.275097</td>\n",
       "      <td>0.842020</td>\n",
       "      <td>0.727146</td>\n",
       "      <td>00:22</td>\n",
       "    </tr>\n",
       "  </tbody>\n",
       "</table>"
      ],
      "text/plain": [
       "<IPython.core.display.HTML object>"
      ]
     },
     "metadata": {},
     "output_type": "display_data"
    },
    {
     "data": {
      "text/html": [
       "<table border=\"1\" class=\"dataframe\">\n",
       "  <thead>\n",
       "    <tr style=\"text-align: left;\">\n",
       "      <th>epoch</th>\n",
       "      <th>train_loss</th>\n",
       "      <th>valid_loss</th>\n",
       "      <th>dice</th>\n",
       "      <th>jaccard_coeff</th>\n",
       "      <th>time</th>\n",
       "    </tr>\n",
       "  </thead>\n",
       "  <tbody>\n",
       "    <tr>\n",
       "      <td>0</td>\n",
       "      <td>0.203344</td>\n",
       "      <td>0.258822</td>\n",
       "      <td>0.860021</td>\n",
       "      <td>0.754418</td>\n",
       "      <td>00:26</td>\n",
       "    </tr>\n",
       "  </tbody>\n",
       "</table>"
      ],
      "text/plain": [
       "<IPython.core.display.HTML object>"
      ]
     },
     "metadata": {},
     "output_type": "display_data"
    },
    {
     "name": "stdout",
     "output_type": "stream",
     "text": [
      "Clean up\n",
      "Done with task: mask\n",
      "Finish round no: 1 with image size: (224, 303)\n",
      "Start round no: 2 with image size: (224, 303)\n",
      "Build dataloaders for classification.\n",
      "Using batch size of: 4 and image size of: (224, 303)\n",
      "Load pretrained learner for task: class\n",
      "Load encoder from previous task\n"
     ]
    },
    {
     "data": {
      "text/html": [
       "<table border=\"1\" class=\"dataframe\">\n",
       "  <thead>\n",
       "    <tr style=\"text-align: left;\">\n",
       "      <th>epoch</th>\n",
       "      <th>train_loss</th>\n",
       "      <th>valid_loss</th>\n",
       "      <th>accuracy</th>\n",
       "      <th>time</th>\n",
       "    </tr>\n",
       "  </thead>\n",
       "  <tbody>\n",
       "    <tr>\n",
       "      <td>0</td>\n",
       "      <td>2.405830</td>\n",
       "      <td>0.752788</td>\n",
       "      <td>0.750000</td>\n",
       "      <td>00:04</td>\n",
       "    </tr>\n",
       "  </tbody>\n",
       "</table>"
      ],
      "text/plain": [
       "<IPython.core.display.HTML object>"
      ]
     },
     "metadata": {},
     "output_type": "display_data"
    },
    {
     "data": {
      "text/html": [
       "<table border=\"1\" class=\"dataframe\">\n",
       "  <thead>\n",
       "    <tr style=\"text-align: left;\">\n",
       "      <th>epoch</th>\n",
       "      <th>train_loss</th>\n",
       "      <th>valid_loss</th>\n",
       "      <th>accuracy</th>\n",
       "      <th>time</th>\n",
       "    </tr>\n",
       "  </thead>\n",
       "  <tbody>\n",
       "    <tr>\n",
       "      <td>0</td>\n",
       "      <td>2.105946</td>\n",
       "      <td>0.621471</td>\n",
       "      <td>0.800000</td>\n",
       "      <td>00:05</td>\n",
       "    </tr>\n",
       "  </tbody>\n",
       "</table>"
      ],
      "text/plain": [
       "<IPython.core.display.HTML object>"
      ]
     },
     "metadata": {},
     "output_type": "display_data"
    },
    {
     "name": "stdout",
     "output_type": "stream",
     "text": [
      "Clean up\n",
      "Done with task: class\n",
      "Build dataloaders for segmentation.\n",
      "Using batch size of: 1 and image size of: (224, 303)\n",
      "Load pretrained learner for task: mask\n",
      "Load encoder from previous task\n"
     ]
    },
    {
     "data": {
      "text/html": [
       "<table border=\"1\" class=\"dataframe\">\n",
       "  <thead>\n",
       "    <tr style=\"text-align: left;\">\n",
       "      <th>epoch</th>\n",
       "      <th>train_loss</th>\n",
       "      <th>valid_loss</th>\n",
       "      <th>dice</th>\n",
       "      <th>jaccard_coeff</th>\n",
       "      <th>time</th>\n",
       "    </tr>\n",
       "  </thead>\n",
       "  <tbody>\n",
       "    <tr>\n",
       "      <td>0</td>\n",
       "      <td>0.235964</td>\n",
       "      <td>0.335457</td>\n",
       "      <td>0.802514</td>\n",
       "      <td>0.670166</td>\n",
       "      <td>00:23</td>\n",
       "    </tr>\n",
       "  </tbody>\n",
       "</table>"
      ],
      "text/plain": [
       "<IPython.core.display.HTML object>"
      ]
     },
     "metadata": {},
     "output_type": "display_data"
    },
    {
     "data": {
      "text/html": [
       "<table border=\"1\" class=\"dataframe\">\n",
       "  <thead>\n",
       "    <tr style=\"text-align: left;\">\n",
       "      <th>epoch</th>\n",
       "      <th>train_loss</th>\n",
       "      <th>valid_loss</th>\n",
       "      <th>dice</th>\n",
       "      <th>jaccard_coeff</th>\n",
       "      <th>time</th>\n",
       "    </tr>\n",
       "  </thead>\n",
       "  <tbody>\n",
       "    <tr>\n",
       "      <td>0</td>\n",
       "      <td>0.192223</td>\n",
       "      <td>0.583948</td>\n",
       "      <td>0.652633</td>\n",
       "      <td>0.484376</td>\n",
       "      <td>00:26</td>\n",
       "    </tr>\n",
       "  </tbody>\n",
       "</table>"
      ],
      "text/plain": [
       "<IPython.core.display.HTML object>"
      ]
     },
     "metadata": {},
     "output_type": "display_data"
    },
    {
     "name": "stdout",
     "output_type": "stream",
     "text": [
      "Clean up\n",
      "Done with task: mask\n",
      "Finish round no: 2 with image size: (224, 303)\n",
      "Start round no: 0 with image size: (336, 455)\n",
      "Build dataloaders for classification.\n",
      "Using batch size of: 4 and image size of: (336, 455)\n",
      "Load pretrained learner for task: class\n",
      "Load encoder from previous task\n"
     ]
    },
    {
     "data": {
      "text/html": [
       "<table border=\"1\" class=\"dataframe\">\n",
       "  <thead>\n",
       "    <tr style=\"text-align: left;\">\n",
       "      <th>epoch</th>\n",
       "      <th>train_loss</th>\n",
       "      <th>valid_loss</th>\n",
       "      <th>accuracy</th>\n",
       "      <th>time</th>\n",
       "    </tr>\n",
       "  </thead>\n",
       "  <tbody>\n",
       "    <tr>\n",
       "      <td>0</td>\n",
       "      <td>2.038789</td>\n",
       "      <td>0.401373</td>\n",
       "      <td>0.890000</td>\n",
       "      <td>00:06</td>\n",
       "    </tr>\n",
       "  </tbody>\n",
       "</table>"
      ],
      "text/plain": [
       "<IPython.core.display.HTML object>"
      ]
     },
     "metadata": {},
     "output_type": "display_data"
    },
    {
     "data": {
      "text/html": [
       "<table border=\"1\" class=\"dataframe\">\n",
       "  <thead>\n",
       "    <tr style=\"text-align: left;\">\n",
       "      <th>epoch</th>\n",
       "      <th>train_loss</th>\n",
       "      <th>valid_loss</th>\n",
       "      <th>accuracy</th>\n",
       "      <th>time</th>\n",
       "    </tr>\n",
       "  </thead>\n",
       "  <tbody>\n",
       "    <tr>\n",
       "      <td>0</td>\n",
       "      <td>2.040146</td>\n",
       "      <td>0.328276</td>\n",
       "      <td>0.930000</td>\n",
       "      <td>00:08</td>\n",
       "    </tr>\n",
       "  </tbody>\n",
       "</table>"
      ],
      "text/plain": [
       "<IPython.core.display.HTML object>"
      ]
     },
     "metadata": {},
     "output_type": "display_data"
    },
    {
     "name": "stdout",
     "output_type": "stream",
     "text": [
      "Clean up\n",
      "Done with task: class\n",
      "Build dataloaders for segmentation.\n",
      "Using batch size of: 1 and image size of: (336, 455)\n",
      "Load pretrained learner for task: mask\n",
      "Load encoder from previous task\n"
     ]
    },
    {
     "data": {
      "text/html": [
       "<table border=\"1\" class=\"dataframe\">\n",
       "  <thead>\n",
       "    <tr style=\"text-align: left;\">\n",
       "      <th>epoch</th>\n",
       "      <th>train_loss</th>\n",
       "      <th>valid_loss</th>\n",
       "      <th>dice</th>\n",
       "      <th>jaccard_coeff</th>\n",
       "      <th>time</th>\n",
       "    </tr>\n",
       "  </thead>\n",
       "  <tbody>\n",
       "    <tr>\n",
       "      <td>0</td>\n",
       "      <td>0.196726</td>\n",
       "      <td>0.219574</td>\n",
       "      <td>0.867222</td>\n",
       "      <td>0.765572</td>\n",
       "      <td>00:39</td>\n",
       "    </tr>\n",
       "  </tbody>\n",
       "</table>"
      ],
      "text/plain": [
       "<IPython.core.display.HTML object>"
      ]
     },
     "metadata": {},
     "output_type": "display_data"
    },
    {
     "data": {
      "text/html": [
       "<table border=\"1\" class=\"dataframe\">\n",
       "  <thead>\n",
       "    <tr style=\"text-align: left;\">\n",
       "      <th>epoch</th>\n",
       "      <th>train_loss</th>\n",
       "      <th>valid_loss</th>\n",
       "      <th>dice</th>\n",
       "      <th>jaccard_coeff</th>\n",
       "      <th>time</th>\n",
       "    </tr>\n",
       "  </thead>\n",
       "  <tbody>\n",
       "    <tr>\n",
       "      <td>0</td>\n",
       "      <td>0.164285</td>\n",
       "      <td>0.211647</td>\n",
       "      <td>0.858054</td>\n",
       "      <td>0.751396</td>\n",
       "      <td>00:44</td>\n",
       "    </tr>\n",
       "  </tbody>\n",
       "</table>"
      ],
      "text/plain": [
       "<IPython.core.display.HTML object>"
      ]
     },
     "metadata": {},
     "output_type": "display_data"
    },
    {
     "name": "stdout",
     "output_type": "stream",
     "text": [
      "Clean up\n",
      "Done with task: mask\n",
      "Finish round no: 0 with image size: (336, 455)\n",
      "Start round no: 1 with image size: (336, 455)\n",
      "Build dataloaders for classification.\n",
      "Using batch size of: 4 and image size of: (336, 455)\n",
      "Load pretrained learner for task: class\n",
      "Load encoder from previous task\n"
     ]
    },
    {
     "data": {
      "text/html": [
       "<table border=\"1\" class=\"dataframe\">\n",
       "  <thead>\n",
       "    <tr style=\"text-align: left;\">\n",
       "      <th>epoch</th>\n",
       "      <th>train_loss</th>\n",
       "      <th>valid_loss</th>\n",
       "      <th>accuracy</th>\n",
       "      <th>time</th>\n",
       "    </tr>\n",
       "  </thead>\n",
       "  <tbody>\n",
       "    <tr>\n",
       "      <td>0</td>\n",
       "      <td>1.979987</td>\n",
       "      <td>0.257572</td>\n",
       "      <td>0.950000</td>\n",
       "      <td>00:06</td>\n",
       "    </tr>\n",
       "  </tbody>\n",
       "</table>"
      ],
      "text/plain": [
       "<IPython.core.display.HTML object>"
      ]
     },
     "metadata": {},
     "output_type": "display_data"
    },
    {
     "data": {
      "text/html": [
       "<table border=\"1\" class=\"dataframe\">\n",
       "  <thead>\n",
       "    <tr style=\"text-align: left;\">\n",
       "      <th>epoch</th>\n",
       "      <th>train_loss</th>\n",
       "      <th>valid_loss</th>\n",
       "      <th>accuracy</th>\n",
       "      <th>time</th>\n",
       "    </tr>\n",
       "  </thead>\n",
       "  <tbody>\n",
       "    <tr>\n",
       "      <td>0</td>\n",
       "      <td>1.966719</td>\n",
       "      <td>0.293886</td>\n",
       "      <td>0.930000</td>\n",
       "      <td>00:08</td>\n",
       "    </tr>\n",
       "  </tbody>\n",
       "</table>"
      ],
      "text/plain": [
       "<IPython.core.display.HTML object>"
      ]
     },
     "metadata": {},
     "output_type": "display_data"
    },
    {
     "name": "stdout",
     "output_type": "stream",
     "text": [
      "Clean up\n",
      "Done with task: class\n",
      "Build dataloaders for segmentation.\n",
      "Using batch size of: 1 and image size of: (336, 455)\n",
      "Load pretrained learner for task: mask\n",
      "Load encoder from previous task\n"
     ]
    },
    {
     "data": {
      "text/html": [
       "<table border=\"1\" class=\"dataframe\">\n",
       "  <thead>\n",
       "    <tr style=\"text-align: left;\">\n",
       "      <th>epoch</th>\n",
       "      <th>train_loss</th>\n",
       "      <th>valid_loss</th>\n",
       "      <th>dice</th>\n",
       "      <th>jaccard_coeff</th>\n",
       "      <th>time</th>\n",
       "    </tr>\n",
       "  </thead>\n",
       "  <tbody>\n",
       "    <tr>\n",
       "      <td>0</td>\n",
       "      <td>0.195970</td>\n",
       "      <td>0.233474</td>\n",
       "      <td>0.877310</td>\n",
       "      <td>0.781436</td>\n",
       "      <td>00:40</td>\n",
       "    </tr>\n",
       "  </tbody>\n",
       "</table>"
      ],
      "text/plain": [
       "<IPython.core.display.HTML object>"
      ]
     },
     "metadata": {},
     "output_type": "display_data"
    },
    {
     "data": {
      "text/html": [
       "<table border=\"1\" class=\"dataframe\">\n",
       "  <thead>\n",
       "    <tr style=\"text-align: left;\">\n",
       "      <th>epoch</th>\n",
       "      <th>train_loss</th>\n",
       "      <th>valid_loss</th>\n",
       "      <th>dice</th>\n",
       "      <th>jaccard_coeff</th>\n",
       "      <th>time</th>\n",
       "    </tr>\n",
       "  </thead>\n",
       "  <tbody>\n",
       "    <tr>\n",
       "      <td>0</td>\n",
       "      <td>0.174975</td>\n",
       "      <td>0.193935</td>\n",
       "      <td>0.896892</td>\n",
       "      <td>0.813059</td>\n",
       "      <td>00:44</td>\n",
       "    </tr>\n",
       "  </tbody>\n",
       "</table>"
      ],
      "text/plain": [
       "<IPython.core.display.HTML object>"
      ]
     },
     "metadata": {},
     "output_type": "display_data"
    },
    {
     "name": "stdout",
     "output_type": "stream",
     "text": [
      "Clean up\n",
      "Done with task: mask\n",
      "Finish round no: 1 with image size: (336, 455)\n",
      "Start round no: 2 with image size: (336, 455)\n",
      "Build dataloaders for classification.\n",
      "Using batch size of: 4 and image size of: (336, 455)\n",
      "Load pretrained learner for task: class\n",
      "Load encoder from previous task\n"
     ]
    },
    {
     "data": {
      "text/html": [
       "<table border=\"1\" class=\"dataframe\">\n",
       "  <thead>\n",
       "    <tr style=\"text-align: left;\">\n",
       "      <th>epoch</th>\n",
       "      <th>train_loss</th>\n",
       "      <th>valid_loss</th>\n",
       "      <th>accuracy</th>\n",
       "      <th>time</th>\n",
       "    </tr>\n",
       "  </thead>\n",
       "  <tbody>\n",
       "    <tr>\n",
       "      <td>0</td>\n",
       "      <td>1.898530</td>\n",
       "      <td>0.322610</td>\n",
       "      <td>0.930000</td>\n",
       "      <td>00:06</td>\n",
       "    </tr>\n",
       "  </tbody>\n",
       "</table>"
      ],
      "text/plain": [
       "<IPython.core.display.HTML object>"
      ]
     },
     "metadata": {},
     "output_type": "display_data"
    },
    {
     "data": {
      "text/html": [
       "<table border=\"1\" class=\"dataframe\">\n",
       "  <thead>\n",
       "    <tr style=\"text-align: left;\">\n",
       "      <th>epoch</th>\n",
       "      <th>train_loss</th>\n",
       "      <th>valid_loss</th>\n",
       "      <th>accuracy</th>\n",
       "      <th>time</th>\n",
       "    </tr>\n",
       "  </thead>\n",
       "  <tbody>\n",
       "    <tr>\n",
       "      <td>0</td>\n",
       "      <td>1.824323</td>\n",
       "      <td>0.359550</td>\n",
       "      <td>0.920000</td>\n",
       "      <td>00:08</td>\n",
       "    </tr>\n",
       "  </tbody>\n",
       "</table>"
      ],
      "text/plain": [
       "<IPython.core.display.HTML object>"
      ]
     },
     "metadata": {},
     "output_type": "display_data"
    },
    {
     "name": "stdout",
     "output_type": "stream",
     "text": [
      "Clean up\n",
      "Done with task: class\n",
      "Build dataloaders for segmentation.\n",
      "Using batch size of: 1 and image size of: (336, 455)\n",
      "Load pretrained learner for task: mask\n",
      "Load encoder from previous task\n"
     ]
    },
    {
     "data": {
      "text/html": [
       "<table border=\"1\" class=\"dataframe\">\n",
       "  <thead>\n",
       "    <tr style=\"text-align: left;\">\n",
       "      <th>epoch</th>\n",
       "      <th>train_loss</th>\n",
       "      <th>valid_loss</th>\n",
       "      <th>dice</th>\n",
       "      <th>jaccard_coeff</th>\n",
       "      <th>time</th>\n",
       "    </tr>\n",
       "  </thead>\n",
       "  <tbody>\n",
       "    <tr>\n",
       "      <td>0</td>\n",
       "      <td>0.180745</td>\n",
       "      <td>0.187035</td>\n",
       "      <td>0.877678</td>\n",
       "      <td>0.782020</td>\n",
       "      <td>00:38</td>\n",
       "    </tr>\n",
       "  </tbody>\n",
       "</table>"
      ],
      "text/plain": [
       "<IPython.core.display.HTML object>"
      ]
     },
     "metadata": {},
     "output_type": "display_data"
    },
    {
     "data": {
      "text/html": [
       "<table border=\"1\" class=\"dataframe\">\n",
       "  <thead>\n",
       "    <tr style=\"text-align: left;\">\n",
       "      <th>epoch</th>\n",
       "      <th>train_loss</th>\n",
       "      <th>valid_loss</th>\n",
       "      <th>dice</th>\n",
       "      <th>jaccard_coeff</th>\n",
       "      <th>time</th>\n",
       "    </tr>\n",
       "  </thead>\n",
       "  <tbody>\n",
       "    <tr>\n",
       "      <td>0</td>\n",
       "      <td>0.162550</td>\n",
       "      <td>0.320526</td>\n",
       "      <td>0.858165</td>\n",
       "      <td>0.751566</td>\n",
       "      <td>00:43</td>\n",
       "    </tr>\n",
       "  </tbody>\n",
       "</table>"
      ],
      "text/plain": [
       "<IPython.core.display.HTML object>"
      ]
     },
     "metadata": {},
     "output_type": "display_data"
    },
    {
     "name": "stdout",
     "output_type": "stream",
     "text": [
      "Clean up\n",
      "Done with task: mask\n",
      "Finish round no: 2 with image size: (336, 455)\n"
     ]
    }
   ],
   "source": [
    "switch_training(tasks = TASKS, sizes = SIZES[:2], rounds = 3, learner_ex = [False, False], encoder_ex = False, epochs = 1)"
   ]
  }
 ],
 "metadata": {
  "kernelspec": {
   "display_name": "fastai",
   "language": "python",
   "name": "fastai"
  },
  "language_info": {
   "codemirror_mode": {
    "name": "ipython",
    "version": 3
   },
   "file_extension": ".py",
   "mimetype": "text/x-python",
   "name": "python",
   "nbconvert_exporter": "python",
   "pygments_lexer": "ipython3",
   "version": "3.8.8"
  }
 },
 "nbformat": 4,
 "nbformat_minor": 4
}
