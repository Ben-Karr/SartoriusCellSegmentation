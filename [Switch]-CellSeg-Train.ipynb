{
 "cells": [
  {
   "cell_type": "code",
   "execution_count": 1,
   "metadata": {
    "execution": {
     "iopub.execute_input": "2021-11-26T17:30:29.041886Z",
     "iopub.status.busy": "2021-11-26T17:30:29.040979Z",
     "iopub.status.idle": "2021-11-26T17:30:29.047342Z",
     "shell.execute_reply": "2021-11-26T17:30:29.046612Z",
     "shell.execute_reply.started": "2021-11-26T17:30:29.041760Z"
    }
   },
   "outputs": [],
   "source": [
    "#!pip install --user torch==1.9.0 torchvision==0.10.0 torchaudio==0.9.0 torchtext==0.10.0"
   ]
  },
  {
   "cell_type": "code",
   "execution_count": 2,
   "metadata": {
    "execution": {
     "iopub.execute_input": "2021-11-26T17:30:29.050179Z",
     "iopub.status.busy": "2021-11-26T17:30:29.049711Z",
     "iopub.status.idle": "2021-11-26T17:30:31.599710Z",
     "shell.execute_reply": "2021-11-26T17:30:31.598884Z",
     "shell.execute_reply.started": "2021-11-26T17:30:29.050140Z"
    }
   },
   "outputs": [],
   "source": [
    "#!pip install timm"
   ]
  },
  {
   "cell_type": "markdown",
   "metadata": {},
   "source": [
    "### Imports"
   ]
  },
  {
   "cell_type": "code",
   "execution_count": 1,
   "metadata": {
    "_cell_guid": "b1076dfc-b9ad-4769-8c92-a6c4dae69d19",
    "_uuid": "8f2839f25d086af736a60e9eeb907d3b93b6e0e5",
    "execution": {
     "iopub.execute_input": "2021-11-26T17:30:31.602318Z",
     "iopub.status.busy": "2021-11-26T17:30:31.601338Z",
     "iopub.status.idle": "2021-11-26T17:30:34.414167Z",
     "shell.execute_reply": "2021-11-26T17:30:34.413313Z",
     "shell.execute_reply.started": "2021-11-26T17:30:31.602277Z"
    }
   },
   "outputs": [],
   "source": [
    "from fastai.vision.all import *\n",
    "import tqdm\n",
    "\n",
    "from timm import create_model\n",
    "from fastai.vision.learner import _update_first_layer\n",
    "import gc"
   ]
  },
  {
   "cell_type": "code",
   "execution_count": 3,
   "metadata": {
    "execution": {
     "iopub.execute_input": "2021-11-26T17:30:34.415784Z",
     "iopub.status.busy": "2021-11-26T17:30:34.415504Z",
     "iopub.status.idle": "2021-11-26T17:30:34.701816Z",
     "shell.execute_reply": "2021-11-26T17:30:34.701088Z",
     "shell.execute_reply.started": "2021-11-26T17:30:34.415750Z"
    },
    "scrolled": true
   },
   "outputs": [],
   "source": [
    "stage = 'train'\n",
    "path = Path('src')\n",
    "img_path = path / stage\n",
    "\n",
    "mask_path = path / 'masks'\n",
    "\n",
    "df = pd.read_csv(path / f'{stage}.csv')"
   ]
  },
  {
   "cell_type": "code",
   "execution_count": 4,
   "metadata": {
    "execution": {
     "iopub.execute_input": "2021-11-26T17:30:34.704514Z",
     "iopub.status.busy": "2021-11-26T17:30:34.704184Z",
     "iopub.status.idle": "2021-11-26T17:30:34.709144Z",
     "shell.execute_reply": "2021-11-26T17:30:34.708162Z",
     "shell.execute_reply.started": "2021-11-26T17:30:34.704477Z"
    }
   },
   "outputs": [],
   "source": [
    "enc_path = 'models/resnet34_encoder.pkl'\n",
    "class_learn_path = 'models/class_resnet34_learner.pth'\n",
    "mask_learn_path =  'models/mask_resnet34_learner.pth'"
   ]
  },
  {
   "cell_type": "code",
   "execution_count": 5,
   "metadata": {
    "execution": {
     "iopub.execute_input": "2021-11-26T17:30:35.420946Z",
     "iopub.status.busy": "2021-11-26T17:30:35.420521Z",
     "iopub.status.idle": "2021-11-26T17:30:35.440934Z",
     "shell.execute_reply": "2021-11-26T17:30:35.440024Z",
     "shell.execute_reply.started": "2021-11-26T17:30:35.420908Z"
    },
    "scrolled": false
   },
   "outputs": [
    {
     "data": {
      "text/html": [
       "<div>\n",
       "<style scoped>\n",
       "    .dataframe tbody tr th:only-of-type {\n",
       "        vertical-align: middle;\n",
       "    }\n",
       "\n",
       "    .dataframe tbody tr th {\n",
       "        vertical-align: top;\n",
       "    }\n",
       "\n",
       "    .dataframe thead th {\n",
       "        text-align: right;\n",
       "    }\n",
       "</style>\n",
       "<table border=\"1\" class=\"dataframe\">\n",
       "  <thead>\n",
       "    <tr style=\"text-align: right;\">\n",
       "      <th></th>\n",
       "      <th>id</th>\n",
       "      <th>annotation</th>\n",
       "      <th>width</th>\n",
       "      <th>height</th>\n",
       "      <th>cell_type</th>\n",
       "      <th>plate_time</th>\n",
       "      <th>sample_date</th>\n",
       "      <th>sample_id</th>\n",
       "      <th>elapsed_timedelta</th>\n",
       "    </tr>\n",
       "  </thead>\n",
       "  <tbody>\n",
       "    <tr>\n",
       "      <th>73584</th>\n",
       "      <td>ffdb3cc02eef</td>\n",
       "      <td>249775 2 250477 6 251180 8 251882 11 252585 12 253288 14 253992 14 254695 16 255398 17 256102 17 256805 17 257509 17 258212 17 258917 16 259621 15 260326 13 261031 11 261736 9 262442 6</td>\n",
       "      <td>704</td>\n",
       "      <td>520</td>\n",
       "      <td>cort</td>\n",
       "      <td>11h59m00s</td>\n",
       "      <td>2020-11-01</td>\n",
       "      <td>cort[debris]_D9-3_Vessel-384_Ph_4</td>\n",
       "      <td>0 days 11:59:00</td>\n",
       "    </tr>\n",
       "  </tbody>\n",
       "</table>\n",
       "</div>"
      ],
      "text/plain": [
       "                 id  \\\n",
       "73584  ffdb3cc02eef   \n",
       "\n",
       "                                                                                                                                                                                     annotation  \\\n",
       "73584  249775 2 250477 6 251180 8 251882 11 252585 12 253288 14 253992 14 254695 16 255398 17 256102 17 256805 17 257509 17 258212 17 258917 16 259621 15 260326 13 261031 11 261736 9 262442 6   \n",
       "\n",
       "       width  height cell_type plate_time sample_date  \\\n",
       "73584    704     520      cort  11h59m00s  2020-11-01   \n",
       "\n",
       "                               sample_id elapsed_timedelta  \n",
       "73584  cort[debris]_D9-3_Vessel-384_Ph_4   0 days 11:59:00  "
      ]
     },
     "execution_count": 5,
     "metadata": {},
     "output_type": "execute_result"
    }
   ],
   "source": [
    "df.tail(1)"
   ]
  },
  {
   "cell_type": "markdown",
   "metadata": {},
   "source": [
    "### Label functions for classification & segmentation"
   ]
  },
  {
   "cell_type": "code",
   "execution_count": 6,
   "metadata": {
    "execution": {
     "iopub.execute_input": "2021-11-26T17:30:35.443313Z",
     "iopub.status.busy": "2021-11-26T17:30:35.442378Z",
     "iopub.status.idle": "2021-11-26T17:30:35.448770Z",
     "shell.execute_reply": "2021-11-26T17:30:35.447501Z",
     "shell.execute_reply.started": "2021-11-26T17:30:35.443273Z"
    }
   },
   "outputs": [],
   "source": [
    "def class_label_func(fn):\n",
    "    #return re.search('(.*)_Phase.*',fn.stem).group(1)\n",
    "    return df.loc[df.id == fn.stem, 'cell_type'].unique()[0]"
   ]
  },
  {
   "cell_type": "code",
   "execution_count": 10,
   "metadata": {
    "execution": {
     "iopub.execute_input": "2021-11-26T17:30:35.494740Z",
     "iopub.status.busy": "2021-11-26T17:30:35.494196Z",
     "iopub.status.idle": "2021-11-26T17:30:35.500449Z",
     "shell.execute_reply": "2021-11-26T17:30:35.499620Z",
     "shell.execute_reply.started": "2021-11-26T17:30:35.494699Z"
    }
   },
   "outputs": [],
   "source": [
    "def mask_label_func(fn):\n",
    "    return mask_path / fn.name"
   ]
  },
  {
   "cell_type": "markdown",
   "metadata": {},
   "source": [
    "### Use the same train/val split troughout the switch training, to get reliable metrics."
   ]
  },
  {
   "cell_type": "code",
   "execution_count": 7,
   "metadata": {
    "execution": {
     "iopub.execute_input": "2021-11-26T17:30:35.450663Z",
     "iopub.status.busy": "2021-11-26T17:30:35.450207Z",
     "iopub.status.idle": "2021-11-26T17:30:35.472780Z",
     "shell.execute_reply": "2021-11-26T17:30:35.472064Z",
     "shell.execute_reply.started": "2021-11-26T17:30:35.450624Z"
    }
   },
   "outputs": [],
   "source": [
    "df['is_valid'] = False\n",
    "\n",
    "val_ids = np.random.choice(df.id.unique(), size = int(606 * 0.2))\n",
    "df.loc[df.id.isin(val_ids), 'is_valid'] = True"
   ]
  },
  {
   "cell_type": "code",
   "execution_count": 8,
   "metadata": {
    "execution": {
     "iopub.execute_input": "2021-11-26T17:30:35.475990Z",
     "iopub.status.busy": "2021-11-26T17:30:35.475614Z",
     "iopub.status.idle": "2021-11-26T17:30:35.480847Z",
     "shell.execute_reply": "2021-11-26T17:30:35.480028Z",
     "shell.execute_reply.started": "2021-11-26T17:30:35.475953Z"
    }
   },
   "outputs": [],
   "source": [
    "#is_val_fns = df.loc[df.is_valid == 1, 'file_name'].unique()\n",
    "#is_train_fns = df.loc[df.is_valid == 0, 'file_name'].unique()\n",
    "\n",
    "def is_valid(fn):\n",
    "    return fn.stem in val_ids"
   ]
  },
  {
   "cell_type": "code",
   "execution_count": 9,
   "metadata": {
    "execution": {
     "iopub.execute_input": "2021-11-26T17:30:35.482866Z",
     "iopub.status.busy": "2021-11-26T17:30:35.482254Z",
     "iopub.status.idle": "2021-11-26T17:30:35.490544Z",
     "shell.execute_reply": "2021-11-26T17:30:35.489579Z",
     "shell.execute_reply.started": "2021-11-26T17:30:35.482828Z"
    }
   },
   "outputs": [],
   "source": [
    "def MySplitter():\n",
    "    def _inner(o):\n",
    "        train_idx = o.argwhere(is_valid, negate = True)\n",
    "        val_idx = o.argwhere(is_valid)    \n",
    "        return train_idx, val_idx\n",
    "    return _inner"
   ]
  },
  {
   "cell_type": "markdown",
   "metadata": {},
   "source": [
    "### Training Parameters"
   ]
  },
  {
   "cell_type": "code",
   "execution_count": 12,
   "metadata": {
    "execution": {
     "iopub.execute_input": "2021-11-26T17:30:35.511499Z",
     "iopub.status.busy": "2021-11-26T17:30:35.510660Z",
     "iopub.status.idle": "2021-11-26T17:30:35.519558Z",
     "shell.execute_reply": "2021-11-26T17:30:35.518687Z",
     "shell.execute_reply.started": "2021-11-26T17:30:35.511463Z"
    }
   },
   "outputs": [],
   "source": [
    "TASKS = ['class', 'mask']\n",
    "SIZES = [(224, 303), (336, 455), (448, 606), None] #None equals native image size of (520, 704)\n",
    "DEBUG = True\n",
    "BS_MULTS = [1, 1, 1, 1]#[40, 18, 10, 6]"
   ]
  },
  {
   "cell_type": "markdown",
   "metadata": {},
   "source": [
    "### Shrink dataset for debuging / prototyping"
   ]
  },
  {
   "cell_type": "code",
   "execution_count": 13,
   "metadata": {
    "execution": {
     "iopub.execute_input": "2021-11-26T17:30:35.521803Z",
     "iopub.status.busy": "2021-11-26T17:30:35.520859Z",
     "iopub.status.idle": "2021-11-26T17:30:35.532942Z",
     "shell.execute_reply": "2021-11-26T17:30:35.531992Z",
     "shell.execute_reply.started": "2021-11-26T17:30:35.521764Z"
    },
    "scrolled": true
   },
   "outputs": [],
   "source": [
    "items = get_image_files(img_path)\n",
    "print(len(items))\n",
    "unique_files = df.file_name.unique()\n",
    "if DEBUG:\n",
    "    unique_files = np.random.choice(unique_files, 1000)\n",
    "items = L([fn for fn in items if fn.stem in unique_files])\n",
    "print(len(items))\n",
    "fn = items[0]\n",
    "img_rgb = load_image(fn)"
   ]
  },
  {
   "cell_type": "markdown",
   "metadata": {},
   "source": [
    "### Build Dataloaders"
   ]
  },
  {
   "cell_type": "code",
   "execution_count": 15,
   "metadata": {
    "execution": {
     "iopub.execute_input": "2021-11-26T17:30:35.543621Z",
     "iopub.status.busy": "2021-11-26T17:30:35.543358Z",
     "iopub.status.idle": "2021-11-26T17:30:35.551694Z",
     "shell.execute_reply": "2021-11-26T17:30:35.550946Z",
     "shell.execute_reply.started": "2021-11-26T17:30:35.543587Z"
    }
   },
   "outputs": [],
   "source": [
    "def get_all(path):\n",
    "    items = get_image_files(path)\n",
    "    if DEBUG:\n",
    "        items = np.random.choice(items, 500)\n",
    "    return L(*items)"
   ]
  },
  {
   "cell_type": "code",
   "execution_count": 61,
   "metadata": {
    "execution": {
     "iopub.execute_input": "2021-11-26T17:30:35.554538Z",
     "iopub.status.busy": "2021-11-26T17:30:35.554027Z",
     "iopub.status.idle": "2021-11-26T17:30:35.563325Z",
     "shell.execute_reply": "2021-11-26T17:30:35.562569Z",
     "shell.execute_reply.started": "2021-11-26T17:30:35.554495Z"
    }
   },
   "outputs": [],
   "source": [
    "def get_dls(src_path, task, size, bs_mult = 1):\n",
    "    if task == 'mask':\n",
    "        print('Build dataloaders for segmentation.')\n",
    "        TaskBlock = (MaskBlock(codes = np.array(['bg', 'cell'])),)\n",
    "        label_func = mask_label_func\n",
    "        bs = 1 * bs_mult\n",
    "        get_items = get_all #get_annotated\n",
    "        \n",
    "    if task == 'class':\n",
    "        print('Build dataloaders for classification.')\n",
    "        TaskBlock = (CategoryBlock(),)\n",
    "        label_func = class_label_func\n",
    "        bs = int(8 * bs_mult)\n",
    "        get_items = get_all\n",
    "        \n",
    "    db = DataBlock(\n",
    "        blocks = (ImageBlock(), *TaskBlock),\n",
    "        get_items = get_items,\n",
    "        get_y = label_func,\n",
    "        splitter = MySplitter(),\n",
    "        #item_tfms = Resize((448, 606)),\n",
    "        batch_tfms = [*aug_transforms(size = size, \n",
    "                                    flip_vert = True, \n",
    "                                    max_rotate = 180., \n",
    "                                    max_warp = 0.\n",
    "                                   ),\n",
    "                      Normalize.from_stats(*imagenet_stats)\n",
    "                     ],\n",
    "        n_inp = 1\n",
    "    )\n",
    "    print(f'Using batch size of: {bs} and image size of: {size}')\n",
    "    return db.dataloaders(src_path, bs = bs)"
   ]
  },
  {
   "cell_type": "markdown",
   "metadata": {},
   "source": [
    "### Build Model"
   ]
  },
  {
   "cell_type": "code",
   "execution_count": 62,
   "metadata": {
    "execution": {
     "iopub.execute_input": "2021-11-26T17:30:35.565446Z",
     "iopub.status.busy": "2021-11-26T17:30:35.564589Z",
     "iopub.status.idle": "2021-11-26T17:30:35.576363Z",
     "shell.execute_reply": "2021-11-26T17:30:35.575384Z",
     "shell.execute_reply.started": "2021-11-26T17:30:35.565406Z"
    }
   },
   "outputs": [],
   "source": [
    "def create_timm_body(arch:str, pretrained=True, cut=None, n_in=3):\n",
    "    \"Creates a body from any model in the `timm` library.\"\n",
    "    model = create_model(arch, pretrained=pretrained, num_classes=0, global_pool='')\n",
    "    _update_first_layer(model, n_in, pretrained)\n",
    "    if cut is None:\n",
    "        ll = list(enumerate(model.children()))\n",
    "        cut = next(i for i,o in reversed(ll) if has_pool_type(o))\n",
    "    if isinstance(cut, int): \n",
    "        return nn.Sequential(*list(model.children())[:cut])\n",
    "    elif callable(cut): \n",
    "        return cut(model)\n",
    "    else: \n",
    "        raise NamedError(\"cut must be either integer or function\")"
   ]
  },
  {
   "cell_type": "markdown",
   "metadata": {},
   "source": [
    "### Workaround to change the classification learner head from 9 classes (pretraining) to 3. "
   ]
  },
  {
   "cell_type": "code",
   "execution_count": 63,
   "metadata": {},
   "outputs": [],
   "source": [
    "### Create same model as used in pretraining\n",
    "#body = create_timm_body('resnet34', pretrained = False)\n",
    "#n_out = 9\n",
    "#nf = num_features_model(nn.Sequential(*body.children()))\n",
    "#head = create_head(nf, n_out, ps = 0.5)\n",
    "#model = nn.Sequential(body, head)\n",
    "\n",
    "### Create new learner from that model\n",
    "#dls = get_dls(img_path, 'class', (224, 303), bs_mult = 1)\n",
    "#learn = Learner(\n",
    "#    dls,\n",
    "#    model,\n",
    "#    metrics = accuracy,\n",
    "#    splitter = default_split,\n",
    "#).to_fp16()\n",
    "\n",
    "### Load weights from pretraining\n",
    "#learn.unfreeze()\n",
    "#learn.load('class_resnet34_learner')\n",
    "\n",
    "### Substitute last layer by one with needed output features\n",
    "#learn.model[-1][-1] = nn.Linear(in_features = 512, out_features = 3, bias = False)\n",
    "#apply_init(model[-1][-1], nn.init.kaiming_normal_)\n",
    "\n",
    "### Save model weights\n",
    "#learn.save('class_resnet34_learner_sartorius', with_opt = False)"
   ]
  },
  {
   "cell_type": "markdown",
   "metadata": {},
   "source": [
    "### Build Learner"
   ]
  },
  {
   "cell_type": "code",
   "execution_count": 64,
   "metadata": {
    "execution": {
     "iopub.execute_input": "2021-11-26T17:30:35.580535Z",
     "iopub.status.busy": "2021-11-26T17:30:35.579800Z",
     "iopub.status.idle": "2021-11-26T17:30:35.590659Z",
     "shell.execute_reply": "2021-11-26T17:30:35.589916Z",
     "shell.execute_reply.started": "2021-11-26T17:30:35.580500Z"
    }
   },
   "outputs": [],
   "source": [
    "def get_learner(task, dls, arch, learner_ex, encoder_ex = False, with_opt = False):\n",
    "\n",
    "    body = create_timm_body(arch, pretrained = True)\n",
    "    n_out = get_c(dls)\n",
    "\n",
    "    if task == 'mask':\n",
    "        img_size = dls.one_batch()[0].shape[-2:]\n",
    "        model = models.unet.DynamicUnet(body, n_out, img_size, self_attention = True)\n",
    "        metrics = [Dice, JaccardCoeff]\n",
    "\n",
    "    if task == 'class':\n",
    "        nf = num_features_model(nn.Sequential(*body.children()))\n",
    "        head = create_head(nf, n_out, ps = 0.5)\n",
    "        model = nn.Sequential(body, head)\n",
    "        apply_init(model[1], nn.init.kaiming_normal_)\n",
    "        metrics = accuracy\n",
    "\n",
    "    print(f'Create learner for task {task}')\n",
    "    learn = Learner(\n",
    "        dls,\n",
    "        model,\n",
    "        metrics = metrics,\n",
    "        splitter = default_split\n",
    "    ).to_fp16()\n",
    "    \n",
    "    if learner_ex[TASKS.index(task)]:\n",
    "        print(f'Load pretrained model')\n",
    "        #learn = load_learner(f'{task}_{arch}_learner.pkl', cpu = False)\n",
    "        #learn.dls = dls\n",
    "        learn.load(f'{task}_{arch}_learner', with_opt = with_opt)\n",
    "    \n",
    "    if encoder_ex:\n",
    "        print('Load encoder from previous task')\n",
    "        load_model(f'{arch}_encoder.pkl', learn.model[0], opt=None, with_opt=False)\n",
    "    else:\n",
    "        print('Start training from scratch.')\n",
    "\n",
    "    return learn"
   ]
  },
  {
   "cell_type": "markdown",
   "metadata": {},
   "source": [
    "## Switch Training"
   ]
  },
  {
   "cell_type": "code",
   "execution_count": 41,
   "metadata": {
    "execution": {
     "iopub.execute_input": "2021-11-26T17:30:35.592418Z",
     "iopub.status.busy": "2021-11-26T17:30:35.592071Z",
     "iopub.status.idle": "2021-11-26T17:30:35.603495Z",
     "shell.execute_reply": "2021-11-26T17:30:35.602746Z",
     "shell.execute_reply.started": "2021-11-26T17:30:35.592383Z"
    }
   },
   "outputs": [],
   "source": [
    "def switch_training(tasks, sizes, epochs, rounds, learner_ex, encoder_ex, lr = 1e-3, arch = 'resnet34', with_opt = False): #efficientnet_b3a\n",
    "    print('Multitask training with: ', arch)\n",
    "    for k, size in enumerate(sizes):\n",
    "        for i in range(rounds):\n",
    "            print(f'Start round no {i+1} with image size {size}')\n",
    "            for task in tasks:\n",
    "                if task == 'class':\n",
    "                    eps = epochs[0]\n",
    "                else:\n",
    "                    eps = epochs[1]\n",
    "                dls = get_dls(img_path, task, size, bs_mult = 1)\n",
    "                learn = get_learner(task, dls, arch, learner_ex, encoder_ex, with_opt = with_opt)\n",
    "                learn.fine_tune(eps, lr, cbs = CutMix(), freeze_epochs = 1)\n",
    "\n",
    "                # Save encoder for all tasks\n",
    "                encoder = get_model(learn.model)[0]\n",
    "                save_model(f'{arch}_encoder.pkl', encoder, opt = None, with_opt=False)\n",
    "                encoder_ex = True\n",
    "                # Save learner for specific task\n",
    "                #learn.export(f'{task}_{arch}_learner.pkl')\n",
    "                learn.save(f'{task}_{arch}_learner')\n",
    "                with_opt = True\n",
    "                learner_ex[TASKS.index(task)] = True\n",
    "\n",
    "                #Cleanup\n",
    "                if (size != None) & (task == 'mask'):\n",
    "                    print('Clean up')\n",
    "                    del(dls)\n",
    "                    del(learn)\n",
    "                    torch.cuda.empty_cache()\n",
    "                    gc.collect()\n",
    "                else:\n",
    "                    learn.export('mask_learner_final.pkl')\n",
    "                print(f'Done with task: {task}')\n",
    "            print(f'Finish round no: {i+1} with image size: {size}')"
   ]
  },
  {
   "cell_type": "code",
   "execution_count": 44,
   "metadata": {
    "scrolled": false
   },
   "outputs": [
    {
     "name": "stdout",
     "output_type": "stream",
     "text": [
      "Multitask training with:  resnet34\n",
      "Start round no 1 with image size (224, 303)\n",
      "Build dataloaders for classification.\n",
      "Using batch size of: 8 and image size of: (224, 303)\n",
      "Create learner for task class\n",
      "Load pretrained model\n",
      "Load encoder from previous task\n"
     ]
    },
    {
     "data": {
      "text/html": [
       "<table border=\"1\" class=\"dataframe\">\n",
       "  <thead>\n",
       "    <tr style=\"text-align: left;\">\n",
       "      <th>epoch</th>\n",
       "      <th>train_loss</th>\n",
       "      <th>valid_loss</th>\n",
       "      <th>accuracy</th>\n",
       "      <th>time</th>\n",
       "    </tr>\n",
       "  </thead>\n",
       "  <tbody>\n",
       "    <tr>\n",
       "      <td>0</td>\n",
       "      <td>1.306740</td>\n",
       "      <td>0.358232</td>\n",
       "      <td>0.827160</td>\n",
       "      <td>00:03</td>\n",
       "    </tr>\n",
       "  </tbody>\n",
       "</table>"
      ],
      "text/plain": [
       "<IPython.core.display.HTML object>"
      ]
     },
     "metadata": {},
     "output_type": "display_data"
    },
    {
     "data": {
      "text/html": [
       "<table border=\"1\" class=\"dataframe\">\n",
       "  <thead>\n",
       "    <tr style=\"text-align: left;\">\n",
       "      <th>epoch</th>\n",
       "      <th>train_loss</th>\n",
       "      <th>valid_loss</th>\n",
       "      <th>accuracy</th>\n",
       "      <th>time</th>\n",
       "    </tr>\n",
       "  </thead>\n",
       "  <tbody>\n",
       "    <tr>\n",
       "      <td>0</td>\n",
       "      <td>0.985211</td>\n",
       "      <td>0.319932</td>\n",
       "      <td>0.876543</td>\n",
       "      <td>00:04</td>\n",
       "    </tr>\n",
       "    <tr>\n",
       "      <td>1</td>\n",
       "      <td>0.894811</td>\n",
       "      <td>0.237170</td>\n",
       "      <td>0.925926</td>\n",
       "      <td>00:04</td>\n",
       "    </tr>\n",
       "    <tr>\n",
       "      <td>2</td>\n",
       "      <td>0.954591</td>\n",
       "      <td>0.281618</td>\n",
       "      <td>0.839506</td>\n",
       "      <td>00:04</td>\n",
       "    </tr>\n",
       "  </tbody>\n",
       "</table>"
      ],
      "text/plain": [
       "<IPython.core.display.HTML object>"
      ]
     },
     "metadata": {},
     "output_type": "display_data"
    },
    {
     "name": "stdout",
     "output_type": "stream",
     "text": [
      "Done with task: class\n",
      "Build dataloaders for segmentation.\n",
      "Using batch size of: 1 and image size of: (224, 303)\n",
      "Create learner for task mask\n",
      "Load pretrained model\n",
      "Load encoder from previous task\n"
     ]
    },
    {
     "data": {
      "text/html": [
       "<table border=\"1\" class=\"dataframe\">\n",
       "  <thead>\n",
       "    <tr style=\"text-align: left;\">\n",
       "      <th>epoch</th>\n",
       "      <th>train_loss</th>\n",
       "      <th>valid_loss</th>\n",
       "      <th>dice</th>\n",
       "      <th>jaccard_coeff</th>\n",
       "      <th>time</th>\n",
       "    </tr>\n",
       "  </thead>\n",
       "  <tbody>\n",
       "    <tr>\n",
       "      <td>0</td>\n",
       "      <td>0.181521</td>\n",
       "      <td>0.238498</td>\n",
       "      <td>0.627143</td>\n",
       "      <td>0.456816</td>\n",
       "      <td>00:29</td>\n",
       "    </tr>\n",
       "  </tbody>\n",
       "</table>"
      ],
      "text/plain": [
       "<IPython.core.display.HTML object>"
      ]
     },
     "metadata": {},
     "output_type": "display_data"
    },
    {
     "data": {
      "text/html": [
       "<table border=\"1\" class=\"dataframe\">\n",
       "  <thead>\n",
       "    <tr style=\"text-align: left;\">\n",
       "      <th>epoch</th>\n",
       "      <th>train_loss</th>\n",
       "      <th>valid_loss</th>\n",
       "      <th>dice</th>\n",
       "      <th>jaccard_coeff</th>\n",
       "      <th>time</th>\n",
       "    </tr>\n",
       "  </thead>\n",
       "  <tbody>\n",
       "    <tr>\n",
       "      <td>0</td>\n",
       "      <td>0.122127</td>\n",
       "      <td>0.278615</td>\n",
       "      <td>0.580188</td>\n",
       "      <td>0.408637</td>\n",
       "      <td>00:33</td>\n",
       "    </tr>\n",
       "    <tr>\n",
       "      <td>1</td>\n",
       "      <td>0.141512</td>\n",
       "      <td>0.151199</td>\n",
       "      <td>0.689003</td>\n",
       "      <td>0.525556</td>\n",
       "      <td>00:33</td>\n",
       "    </tr>\n",
       "    <tr>\n",
       "      <td>2</td>\n",
       "      <td>0.118166</td>\n",
       "      <td>0.178580</td>\n",
       "      <td>0.626971</td>\n",
       "      <td>0.456633</td>\n",
       "      <td>00:33</td>\n",
       "    </tr>\n",
       "    <tr>\n",
       "      <td>3</td>\n",
       "      <td>0.129609</td>\n",
       "      <td>0.159810</td>\n",
       "      <td>0.686207</td>\n",
       "      <td>0.522310</td>\n",
       "      <td>00:33</td>\n",
       "    </tr>\n",
       "    <tr>\n",
       "      <td>4</td>\n",
       "      <td>0.102238</td>\n",
       "      <td>0.139839</td>\n",
       "      <td>0.746867</td>\n",
       "      <td>0.596000</td>\n",
       "      <td>00:33</td>\n",
       "    </tr>\n",
       "    <tr>\n",
       "      <td>5</td>\n",
       "      <td>0.126051</td>\n",
       "      <td>0.149783</td>\n",
       "      <td>0.687869</td>\n",
       "      <td>0.524238</td>\n",
       "      <td>00:34</td>\n",
       "    </tr>\n",
       "    <tr>\n",
       "      <td>6</td>\n",
       "      <td>0.115900</td>\n",
       "      <td>0.193118</td>\n",
       "      <td>0.646882</td>\n",
       "      <td>0.478068</td>\n",
       "      <td>00:34</td>\n",
       "    </tr>\n",
       "  </tbody>\n",
       "</table>"
      ],
      "text/plain": [
       "<IPython.core.display.HTML object>"
      ]
     },
     "metadata": {},
     "output_type": "display_data"
    },
    {
     "name": "stdout",
     "output_type": "stream",
     "text": [
      "Clean up\n",
      "Done with task: mask\n",
      "Finish round no: 1 with image size: (224, 303)\n",
      "Start round no 1 with image size (336, 455)\n",
      "Build dataloaders for classification.\n",
      "Using batch size of: 8 and image size of: (336, 455)\n",
      "Create learner for task class\n",
      "Load pretrained model\n",
      "Load encoder from previous task\n"
     ]
    },
    {
     "data": {
      "text/html": [
       "<table border=\"1\" class=\"dataframe\">\n",
       "  <thead>\n",
       "    <tr style=\"text-align: left;\">\n",
       "      <th>epoch</th>\n",
       "      <th>train_loss</th>\n",
       "      <th>valid_loss</th>\n",
       "      <th>accuracy</th>\n",
       "      <th>time</th>\n",
       "    </tr>\n",
       "  </thead>\n",
       "  <tbody>\n",
       "    <tr>\n",
       "      <td>0</td>\n",
       "      <td>0.884488</td>\n",
       "      <td>0.073631</td>\n",
       "      <td>0.988506</td>\n",
       "      <td>00:05</td>\n",
       "    </tr>\n",
       "  </tbody>\n",
       "</table>"
      ],
      "text/plain": [
       "<IPython.core.display.HTML object>"
      ]
     },
     "metadata": {},
     "output_type": "display_data"
    },
    {
     "data": {
      "text/html": [
       "<table border=\"1\" class=\"dataframe\">\n",
       "  <thead>\n",
       "    <tr style=\"text-align: left;\">\n",
       "      <th>epoch</th>\n",
       "      <th>train_loss</th>\n",
       "      <th>valid_loss</th>\n",
       "      <th>accuracy</th>\n",
       "      <th>time</th>\n",
       "    </tr>\n",
       "  </thead>\n",
       "  <tbody>\n",
       "    <tr>\n",
       "      <td>0</td>\n",
       "      <td>0.837263</td>\n",
       "      <td>0.154621</td>\n",
       "      <td>0.942529</td>\n",
       "      <td>00:06</td>\n",
       "    </tr>\n",
       "    <tr>\n",
       "      <td>1</td>\n",
       "      <td>0.823856</td>\n",
       "      <td>0.102536</td>\n",
       "      <td>0.954023</td>\n",
       "      <td>00:06</td>\n",
       "    </tr>\n",
       "    <tr>\n",
       "      <td>2</td>\n",
       "      <td>0.799449</td>\n",
       "      <td>0.099561</td>\n",
       "      <td>0.954023</td>\n",
       "      <td>00:06</td>\n",
       "    </tr>\n",
       "  </tbody>\n",
       "</table>"
      ],
      "text/plain": [
       "<IPython.core.display.HTML object>"
      ]
     },
     "metadata": {},
     "output_type": "display_data"
    },
    {
     "name": "stdout",
     "output_type": "stream",
     "text": [
      "Done with task: class\n",
      "Build dataloaders for segmentation.\n",
      "Using batch size of: 1 and image size of: (336, 455)\n",
      "Create learner for task mask\n",
      "Load pretrained model\n",
      "Load encoder from previous task\n"
     ]
    },
    {
     "data": {
      "text/html": [
       "<table border=\"1\" class=\"dataframe\">\n",
       "  <thead>\n",
       "    <tr style=\"text-align: left;\">\n",
       "      <th>epoch</th>\n",
       "      <th>train_loss</th>\n",
       "      <th>valid_loss</th>\n",
       "      <th>dice</th>\n",
       "      <th>jaccard_coeff</th>\n",
       "      <th>time</th>\n",
       "    </tr>\n",
       "  </thead>\n",
       "  <tbody>\n",
       "    <tr>\n",
       "      <td>0</td>\n",
       "      <td>0.132957</td>\n",
       "      <td>0.198514</td>\n",
       "      <td>0.649732</td>\n",
       "      <td>0.481188</td>\n",
       "      <td>00:46</td>\n",
       "    </tr>\n",
       "  </tbody>\n",
       "</table>"
      ],
      "text/plain": [
       "<IPython.core.display.HTML object>"
      ]
     },
     "metadata": {},
     "output_type": "display_data"
    },
    {
     "data": {
      "text/html": [
       "<table border=\"1\" class=\"dataframe\">\n",
       "  <thead>\n",
       "    <tr style=\"text-align: left;\">\n",
       "      <th>epoch</th>\n",
       "      <th>train_loss</th>\n",
       "      <th>valid_loss</th>\n",
       "      <th>dice</th>\n",
       "      <th>jaccard_coeff</th>\n",
       "      <th>time</th>\n",
       "    </tr>\n",
       "  </thead>\n",
       "  <tbody>\n",
       "    <tr>\n",
       "      <td>0</td>\n",
       "      <td>0.134799</td>\n",
       "      <td>0.167195</td>\n",
       "      <td>0.693514</td>\n",
       "      <td>0.530824</td>\n",
       "      <td>00:51</td>\n",
       "    </tr>\n",
       "    <tr>\n",
       "      <td>1</td>\n",
       "      <td>0.112444</td>\n",
       "      <td>0.216779</td>\n",
       "      <td>0.663613</td>\n",
       "      <td>0.496573</td>\n",
       "      <td>00:48</td>\n",
       "    </tr>\n",
       "    <tr>\n",
       "      <td>2</td>\n",
       "      <td>0.115242</td>\n",
       "      <td>0.367417</td>\n",
       "      <td>0.576122</td>\n",
       "      <td>0.404615</td>\n",
       "      <td>00:50</td>\n",
       "    </tr>\n",
       "    <tr>\n",
       "      <td>3</td>\n",
       "      <td>0.138206</td>\n",
       "      <td>0.190929</td>\n",
       "      <td>0.682216</td>\n",
       "      <td>0.517699</td>\n",
       "      <td>00:50</td>\n",
       "    </tr>\n",
       "    <tr>\n",
       "      <td>4</td>\n",
       "      <td>0.128169</td>\n",
       "      <td>0.177357</td>\n",
       "      <td>0.627660</td>\n",
       "      <td>0.457364</td>\n",
       "      <td>00:49</td>\n",
       "    </tr>\n",
       "    <tr>\n",
       "      <td>5</td>\n",
       "      <td>0.091084</td>\n",
       "      <td>0.142321</td>\n",
       "      <td>0.742219</td>\n",
       "      <td>0.590101</td>\n",
       "      <td>00:49</td>\n",
       "    </tr>\n",
       "    <tr>\n",
       "      <td>6</td>\n",
       "      <td>0.101161</td>\n",
       "      <td>0.146515</td>\n",
       "      <td>0.734802</td>\n",
       "      <td>0.580780</td>\n",
       "      <td>00:49</td>\n",
       "    </tr>\n",
       "  </tbody>\n",
       "</table>"
      ],
      "text/plain": [
       "<IPython.core.display.HTML object>"
      ]
     },
     "metadata": {},
     "output_type": "display_data"
    },
    {
     "name": "stdout",
     "output_type": "stream",
     "text": [
      "Clean up\n",
      "Done with task: mask\n",
      "Finish round no: 1 with image size: (336, 455)\n",
      "Start round no 1 with image size (448, 606)\n",
      "Build dataloaders for classification.\n",
      "Using batch size of: 8 and image size of: (448, 606)\n",
      "Create learner for task class\n",
      "Load pretrained model\n",
      "Load encoder from previous task\n"
     ]
    },
    {
     "data": {
      "text/html": [
       "<table border=\"1\" class=\"dataframe\">\n",
       "  <thead>\n",
       "    <tr style=\"text-align: left;\">\n",
       "      <th>epoch</th>\n",
       "      <th>train_loss</th>\n",
       "      <th>valid_loss</th>\n",
       "      <th>accuracy</th>\n",
       "      <th>time</th>\n",
       "    </tr>\n",
       "  </thead>\n",
       "  <tbody>\n",
       "    <tr>\n",
       "      <td>0</td>\n",
       "      <td>0.653128</td>\n",
       "      <td>0.040696</td>\n",
       "      <td>1.000000</td>\n",
       "      <td>00:06</td>\n",
       "    </tr>\n",
       "  </tbody>\n",
       "</table>"
      ],
      "text/plain": [
       "<IPython.core.display.HTML object>"
      ]
     },
     "metadata": {},
     "output_type": "display_data"
    },
    {
     "data": {
      "text/html": [
       "<table border=\"1\" class=\"dataframe\">\n",
       "  <thead>\n",
       "    <tr style=\"text-align: left;\">\n",
       "      <th>epoch</th>\n",
       "      <th>train_loss</th>\n",
       "      <th>valid_loss</th>\n",
       "      <th>accuracy</th>\n",
       "      <th>time</th>\n",
       "    </tr>\n",
       "  </thead>\n",
       "  <tbody>\n",
       "    <tr>\n",
       "      <td>0</td>\n",
       "      <td>0.688476</td>\n",
       "      <td>0.059961</td>\n",
       "      <td>1.000000</td>\n",
       "      <td>00:07</td>\n",
       "    </tr>\n",
       "    <tr>\n",
       "      <td>1</td>\n",
       "      <td>0.751672</td>\n",
       "      <td>0.020444</td>\n",
       "      <td>1.000000</td>\n",
       "      <td>00:07</td>\n",
       "    </tr>\n",
       "    <tr>\n",
       "      <td>2</td>\n",
       "      <td>0.729517</td>\n",
       "      <td>0.034693</td>\n",
       "      <td>1.000000</td>\n",
       "      <td>00:07</td>\n",
       "    </tr>\n",
       "  </tbody>\n",
       "</table>"
      ],
      "text/plain": [
       "<IPython.core.display.HTML object>"
      ]
     },
     "metadata": {},
     "output_type": "display_data"
    },
    {
     "name": "stdout",
     "output_type": "stream",
     "text": [
      "Done with task: class\n",
      "Build dataloaders for segmentation.\n",
      "Using batch size of: 1 and image size of: (448, 606)\n",
      "Create learner for task mask\n",
      "Load pretrained model\n",
      "Load encoder from previous task\n"
     ]
    },
    {
     "data": {
      "text/html": [
       "<table border=\"1\" class=\"dataframe\">\n",
       "  <thead>\n",
       "    <tr style=\"text-align: left;\">\n",
       "      <th>epoch</th>\n",
       "      <th>train_loss</th>\n",
       "      <th>valid_loss</th>\n",
       "      <th>dice</th>\n",
       "      <th>jaccard_coeff</th>\n",
       "      <th>time</th>\n",
       "    </tr>\n",
       "  </thead>\n",
       "  <tbody>\n",
       "    <tr>\n",
       "      <td>0</td>\n",
       "      <td>0.130290</td>\n",
       "      <td>0.159508</td>\n",
       "      <td>0.734694</td>\n",
       "      <td>0.580645</td>\n",
       "      <td>01:04</td>\n",
       "    </tr>\n",
       "  </tbody>\n",
       "</table>"
      ],
      "text/plain": [
       "<IPython.core.display.HTML object>"
      ]
     },
     "metadata": {},
     "output_type": "display_data"
    },
    {
     "data": {
      "text/html": [
       "<table border=\"1\" class=\"dataframe\">\n",
       "  <thead>\n",
       "    <tr style=\"text-align: left;\">\n",
       "      <th>epoch</th>\n",
       "      <th>train_loss</th>\n",
       "      <th>valid_loss</th>\n",
       "      <th>dice</th>\n",
       "      <th>jaccard_coeff</th>\n",
       "      <th>time</th>\n",
       "    </tr>\n",
       "  </thead>\n",
       "  <tbody>\n",
       "    <tr>\n",
       "      <td>0</td>\n",
       "      <td>0.120728</td>\n",
       "      <td>0.127278</td>\n",
       "      <td>0.726634</td>\n",
       "      <td>0.570641</td>\n",
       "      <td>01:09</td>\n",
       "    </tr>\n",
       "    <tr>\n",
       "      <td>1</td>\n",
       "      <td>0.111604</td>\n",
       "      <td>0.121040</td>\n",
       "      <td>0.743338</td>\n",
       "      <td>0.591517</td>\n",
       "      <td>01:09</td>\n",
       "    </tr>\n",
       "    <tr>\n",
       "      <td>2</td>\n",
       "      <td>0.103367</td>\n",
       "      <td>0.122812</td>\n",
       "      <td>0.742345</td>\n",
       "      <td>0.590261</td>\n",
       "      <td>01:10</td>\n",
       "    </tr>\n",
       "    <tr>\n",
       "      <td>3</td>\n",
       "      <td>0.125611</td>\n",
       "      <td>0.124547</td>\n",
       "      <td>0.730576</td>\n",
       "      <td>0.575518</td>\n",
       "      <td>01:10</td>\n",
       "    </tr>\n",
       "    <tr>\n",
       "      <td>4</td>\n",
       "      <td>0.124807</td>\n",
       "      <td>0.119049</td>\n",
       "      <td>0.738370</td>\n",
       "      <td>0.585251</td>\n",
       "      <td>01:09</td>\n",
       "    </tr>\n",
       "    <tr>\n",
       "      <td>5</td>\n",
       "      <td>0.113568</td>\n",
       "      <td>0.138758</td>\n",
       "      <td>0.670115</td>\n",
       "      <td>0.503890</td>\n",
       "      <td>01:09</td>\n",
       "    </tr>\n",
       "    <tr>\n",
       "      <td>6</td>\n",
       "      <td>0.119942</td>\n",
       "      <td>0.117867</td>\n",
       "      <td>0.756083</td>\n",
       "      <td>0.607825</td>\n",
       "      <td>01:09</td>\n",
       "    </tr>\n",
       "  </tbody>\n",
       "</table>"
      ],
      "text/plain": [
       "<IPython.core.display.HTML object>"
      ]
     },
     "metadata": {},
     "output_type": "display_data"
    },
    {
     "name": "stdout",
     "output_type": "stream",
     "text": [
      "Clean up\n",
      "Done with task: mask\n",
      "Finish round no: 1 with image size: (448, 606)\n",
      "Start round no 1 with image size None\n",
      "Build dataloaders for classification.\n",
      "Using batch size of: 8 and image size of: None\n",
      "Create learner for task class\n",
      "Load pretrained model\n",
      "Load encoder from previous task\n"
     ]
    },
    {
     "data": {
      "text/html": [
       "<table border=\"1\" class=\"dataframe\">\n",
       "  <thead>\n",
       "    <tr style=\"text-align: left;\">\n",
       "      <th>epoch</th>\n",
       "      <th>train_loss</th>\n",
       "      <th>valid_loss</th>\n",
       "      <th>accuracy</th>\n",
       "      <th>time</th>\n",
       "    </tr>\n",
       "  </thead>\n",
       "  <tbody>\n",
       "    <tr>\n",
       "      <td>0</td>\n",
       "      <td>0.665901</td>\n",
       "      <td>0.038989</td>\n",
       "      <td>1.000000</td>\n",
       "      <td>00:08</td>\n",
       "    </tr>\n",
       "  </tbody>\n",
       "</table>"
      ],
      "text/plain": [
       "<IPython.core.display.HTML object>"
      ]
     },
     "metadata": {},
     "output_type": "display_data"
    },
    {
     "data": {
      "text/html": [
       "<table border=\"1\" class=\"dataframe\">\n",
       "  <thead>\n",
       "    <tr style=\"text-align: left;\">\n",
       "      <th>epoch</th>\n",
       "      <th>train_loss</th>\n",
       "      <th>valid_loss</th>\n",
       "      <th>accuracy</th>\n",
       "      <th>time</th>\n",
       "    </tr>\n",
       "  </thead>\n",
       "  <tbody>\n",
       "    <tr>\n",
       "      <td>0</td>\n",
       "      <td>0.669046</td>\n",
       "      <td>0.024379</td>\n",
       "      <td>1.000000</td>\n",
       "      <td>00:10</td>\n",
       "    </tr>\n",
       "    <tr>\n",
       "      <td>1</td>\n",
       "      <td>0.648728</td>\n",
       "      <td>0.063650</td>\n",
       "      <td>0.975904</td>\n",
       "      <td>00:10</td>\n",
       "    </tr>\n",
       "    <tr>\n",
       "      <td>2</td>\n",
       "      <td>0.607382</td>\n",
       "      <td>0.067390</td>\n",
       "      <td>0.975904</td>\n",
       "      <td>00:10</td>\n",
       "    </tr>\n",
       "  </tbody>\n",
       "</table>"
      ],
      "text/plain": [
       "<IPython.core.display.HTML object>"
      ]
     },
     "metadata": {},
     "output_type": "display_data"
    },
    {
     "name": "stdout",
     "output_type": "stream",
     "text": [
      "Done with task: class\n",
      "Build dataloaders for segmentation.\n",
      "Using batch size of: 1 and image size of: None\n",
      "Create learner for task mask\n",
      "Load pretrained model\n",
      "Load encoder from previous task\n"
     ]
    },
    {
     "data": {
      "text/html": [
       "<table border=\"1\" class=\"dataframe\">\n",
       "  <thead>\n",
       "    <tr style=\"text-align: left;\">\n",
       "      <th>epoch</th>\n",
       "      <th>train_loss</th>\n",
       "      <th>valid_loss</th>\n",
       "      <th>dice</th>\n",
       "      <th>jaccard_coeff</th>\n",
       "      <th>time</th>\n",
       "    </tr>\n",
       "  </thead>\n",
       "  <tbody>\n",
       "    <tr>\n",
       "      <td>0</td>\n",
       "      <td>0.121166</td>\n",
       "      <td>0.125349</td>\n",
       "      <td>0.745365</td>\n",
       "      <td>0.594089</td>\n",
       "      <td>01:20</td>\n",
       "    </tr>\n",
       "  </tbody>\n",
       "</table>"
      ],
      "text/plain": [
       "<IPython.core.display.HTML object>"
      ]
     },
     "metadata": {},
     "output_type": "display_data"
    },
    {
     "data": {
      "text/html": [
       "<table border=\"1\" class=\"dataframe\">\n",
       "  <thead>\n",
       "    <tr style=\"text-align: left;\">\n",
       "      <th>epoch</th>\n",
       "      <th>train_loss</th>\n",
       "      <th>valid_loss</th>\n",
       "      <th>dice</th>\n",
       "      <th>jaccard_coeff</th>\n",
       "      <th>time</th>\n",
       "    </tr>\n",
       "  </thead>\n",
       "  <tbody>\n",
       "    <tr>\n",
       "      <td>0</td>\n",
       "      <td>0.101037</td>\n",
       "      <td>0.129411</td>\n",
       "      <td>0.768670</td>\n",
       "      <td>0.624260</td>\n",
       "      <td>01:23</td>\n",
       "    </tr>\n",
       "    <tr>\n",
       "      <td>1</td>\n",
       "      <td>0.101380</td>\n",
       "      <td>0.120360</td>\n",
       "      <td>0.763430</td>\n",
       "      <td>0.617377</td>\n",
       "      <td>01:22</td>\n",
       "    </tr>\n",
       "    <tr>\n",
       "      <td>2</td>\n",
       "      <td>0.127924</td>\n",
       "      <td>0.125561</td>\n",
       "      <td>0.771399</td>\n",
       "      <td>0.627867</td>\n",
       "      <td>01:22</td>\n",
       "    </tr>\n",
       "    <tr>\n",
       "      <td>3</td>\n",
       "      <td>0.103065</td>\n",
       "      <td>0.124629</td>\n",
       "      <td>0.738253</td>\n",
       "      <td>0.585104</td>\n",
       "      <td>01:22</td>\n",
       "    </tr>\n",
       "    <tr>\n",
       "      <td>4</td>\n",
       "      <td>0.100548</td>\n",
       "      <td>0.146188</td>\n",
       "      <td>0.676349</td>\n",
       "      <td>0.510972</td>\n",
       "      <td>01:22</td>\n",
       "    </tr>\n",
       "    <tr>\n",
       "      <td>5</td>\n",
       "      <td>0.097417</td>\n",
       "      <td>0.136004</td>\n",
       "      <td>0.762022</td>\n",
       "      <td>0.615538</td>\n",
       "      <td>01:22</td>\n",
       "    </tr>\n",
       "    <tr>\n",
       "      <td>6</td>\n",
       "      <td>0.111194</td>\n",
       "      <td>0.132303</td>\n",
       "      <td>0.760009</td>\n",
       "      <td>0.612915</td>\n",
       "      <td>01:22</td>\n",
       "    </tr>\n",
       "  </tbody>\n",
       "</table>"
      ],
      "text/plain": [
       "<IPython.core.display.HTML object>"
      ]
     },
     "metadata": {},
     "output_type": "display_data"
    },
    {
     "name": "stdout",
     "output_type": "stream",
     "text": [
      "Done with task: mask\n",
      "Finish round no: 1 with image size: None\n"
     ]
    }
   ],
   "source": [
    "switch_training(TASKS, SIZES, epochs = [3, 7], rounds = 1, learner_ex = [True, True], encoder_ex = True)"
   ]
  },
  {
   "cell_type": "markdown",
   "metadata": {},
   "source": [
    "## Export learners"
   ]
  },
  {
   "cell_type": "code",
   "execution_count": 30,
   "metadata": {},
   "outputs": [
    {
     "name": "stdout",
     "output_type": "stream",
     "text": [
      "Build dataloaders for classification.\n",
      "Using batch size of: 8 and image size of: (224, 303)\n",
      "Create learner for task class\n",
      "Load pretrained model\n",
      "Start training from scratch.\n"
     ]
    }
   ],
   "source": [
    "task = 'class'\n",
    "arch = 'resnet34'\n",
    "\n",
    "dls = get_dls(img_path, task, (224, 303))\n",
    "learn = get_learner(task, dls, arch, [True, True], False)"
   ]
  },
  {
   "cell_type": "code",
   "execution_count": 31,
   "metadata": {},
   "outputs": [],
   "source": [
    "learn.export('class_final.pkl')"
   ]
  },
  {
   "cell_type": "code",
   "execution_count": 32,
   "metadata": {},
   "outputs": [
    {
     "name": "stdout",
     "output_type": "stream",
     "text": [
      "Build dataloaders for segmentation.\n",
      "Using batch size of: 1 and image size of: (224, 303)\n",
      "Create learner for task mask\n",
      "Load pretrained model\n",
      "Start training from scratch.\n"
     ]
    }
   ],
   "source": [
    "task = 'mask'\n",
    "arch = 'resnet34'\n",
    "\n",
    "dls = get_dls(img_path, task, (224, 303))\n",
    "learn = get_learner(task, dls, arch, [True, True], False)"
   ]
  },
  {
   "cell_type": "code",
   "execution_count": 33,
   "metadata": {},
   "outputs": [],
   "source": [
    "learn.export('mask_final.pkl')"
   ]
  }
 ],
 "metadata": {
  "kernelspec": {
   "display_name": "fastai",
   "language": "python",
   "name": "fastai"
  },
  "language_info": {
   "codemirror_mode": {
    "name": "ipython",
    "version": 3
   },
   "file_extension": ".py",
   "mimetype": "text/x-python",
   "name": "python",
   "nbconvert_exporter": "python",
   "pygments_lexer": "ipython3",
   "version": "3.8.8"
  }
 },
 "nbformat": 4,
 "nbformat_minor": 4
}
