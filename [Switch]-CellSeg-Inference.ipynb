{
 "cells": [
  {
   "cell_type": "code",
   "execution_count": 1,
   "id": "3c3ab4bf",
   "metadata": {
    "execution": {
     "iopub.execute_input": "2021-12-02T16:37:08.357704Z",
     "iopub.status.busy": "2021-12-02T16:37:08.356596Z",
     "iopub.status.idle": "2021-12-02T16:37:17.323228Z",
     "shell.execute_reply": "2021-12-02T16:37:17.322201Z",
     "shell.execute_reply.started": "2021-12-02T16:35:26.937417Z"
    },
    "papermill": {
     "duration": 8.983096,
     "end_time": "2021-12-02T16:37:17.323417",
     "exception": false,
     "start_time": "2021-12-02T16:37:08.340321",
     "status": "completed"
    },
    "tags": []
   },
   "outputs": [
    {
     "name": "stdout",
     "output_type": "stream",
     "text": [
      "Looking in links: file:///kaggle/input/../input/sartoriussegmentationmydata/timm/timm\r\n",
      "Processing /kaggle/input/sartoriussegmentationmydata/timm/timm/timm-0.4.12-py3-none-any.whl\r\n",
      "Requirement already satisfied: torchvision in /opt/conda/lib/python3.7/site-packages (from timm) (0.10.1+cpu)\r\n",
      "Requirement already satisfied: torch>=1.4 in /opt/conda/lib/python3.7/site-packages (from timm) (1.9.1+cpu)\r\n",
      "Requirement already satisfied: typing-extensions in /opt/conda/lib/python3.7/site-packages (from torch>=1.4->timm) (3.10.0.2)\r\n",
      "Requirement already satisfied: pillow>=5.3.0 in /opt/conda/lib/python3.7/site-packages (from torchvision->timm) (8.2.0)\r\n",
      "Requirement already satisfied: numpy in /opt/conda/lib/python3.7/site-packages (from torchvision->timm) (1.19.5)\r\n",
      "Installing collected packages: timm\r\n",
      "Successfully installed timm-0.4.12\r\n",
      "\u001b[33mWARNING: Running pip as the 'root' user can result in broken permissions and conflicting behaviour with the system package manager. It is recommended to use a virtual environment instead: https://pip.pypa.io/warnings/venv\u001b[0m\r\n"
     ]
    }
   ],
   "source": [
    "!pip install timm --no-index --find-links=file:///kaggle/input/../input/sartoriussegmentationmydata/timm/timm"
   ]
  },
  {
   "cell_type": "code",
   "execution_count": 2,
   "id": "c882096d",
   "metadata": {
    "_cell_guid": "b1076dfc-b9ad-4769-8c92-a6c4dae69d19",
    "_uuid": "8f2839f25d086af736a60e9eeb907d3b93b6e0e5",
    "execution": {
     "iopub.execute_input": "2021-12-02T16:37:17.353316Z",
     "iopub.status.busy": "2021-12-02T16:37:17.352378Z",
     "iopub.status.idle": "2021-12-02T16:37:26.435890Z",
     "shell.execute_reply": "2021-12-02T16:37:26.435247Z",
     "shell.execute_reply.started": "2021-12-02T16:35:37.240285Z"
    },
    "papermill": {
     "duration": 9.099866,
     "end_time": "2021-12-02T16:37:26.436051",
     "exception": false,
     "start_time": "2021-12-02T16:37:17.336185",
     "status": "completed"
    },
    "tags": []
   },
   "outputs": [],
   "source": [
    "from fastai.vision.all import *\n",
    "import tqdm\n",
    "import cv2\n",
    "\n",
    "from timm import create_model\n",
    "from fastai.vision.learner import _update_first_layer\n",
    "\n",
    "import skimage.morphology"
   ]
  },
  {
   "cell_type": "code",
   "execution_count": 3,
   "id": "ebb1c9f6",
   "metadata": {
    "execution": {
     "iopub.execute_input": "2021-12-02T16:37:26.463796Z",
     "iopub.status.busy": "2021-12-02T16:37:26.462888Z",
     "iopub.status.idle": "2021-12-02T16:37:26.466042Z",
     "shell.execute_reply": "2021-12-02T16:37:26.465531Z",
     "shell.execute_reply.started": "2021-12-02T16:35:46.432536Z"
    },
    "papermill": {
     "duration": 0.018865,
     "end_time": "2021-12-02T16:37:26.466179",
     "exception": false,
     "start_time": "2021-12-02T16:37:26.447314",
     "status": "completed"
    },
    "tags": []
   },
   "outputs": [],
   "source": [
    "path = Path('../input/sartorius-cell-instance-segmentation')\n",
    "train_path = path / 'train'\n",
    "test_path = path / 'test'"
   ]
  },
  {
   "cell_type": "code",
   "execution_count": 4,
   "id": "19582296",
   "metadata": {
    "execution": {
     "iopub.execute_input": "2021-12-02T16:37:26.493316Z",
     "iopub.status.busy": "2021-12-02T16:37:26.492291Z",
     "iopub.status.idle": "2021-12-02T16:37:26.495108Z",
     "shell.execute_reply": "2021-12-02T16:37:26.494536Z",
     "shell.execute_reply.started": "2021-12-02T16:35:46.440373Z"
    },
    "papermill": {
     "duration": 0.018147,
     "end_time": "2021-12-02T16:37:26.495248",
     "exception": false,
     "start_time": "2021-12-02T16:37:26.477101",
     "status": "completed"
    },
    "tags": []
   },
   "outputs": [],
   "source": [
    "def mask_label_func(fn):\n",
    "    return mask_path / fn.name"
   ]
  },
  {
   "cell_type": "code",
   "execution_count": 5,
   "id": "1de5486a",
   "metadata": {
    "execution": {
     "iopub.execute_input": "2021-12-02T16:37:26.521417Z",
     "iopub.status.busy": "2021-12-02T16:37:26.520798Z",
     "iopub.status.idle": "2021-12-02T16:37:30.030855Z",
     "shell.execute_reply": "2021-12-02T16:37:30.031323Z",
     "shell.execute_reply.started": "2021-12-02T16:35:46.454139Z"
    },
    "papermill": {
     "duration": 3.525365,
     "end_time": "2021-12-02T16:37:30.031568",
     "exception": false,
     "start_time": "2021-12-02T16:37:26.506203",
     "status": "completed"
    },
    "tags": []
   },
   "outputs": [],
   "source": [
    "learn = load_learner('../input/sartoriussegmentationmydata/mask_learner_final.pkl')"
   ]
  },
  {
   "cell_type": "code",
   "execution_count": 6,
   "id": "6369d0a8",
   "metadata": {
    "execution": {
     "iopub.execute_input": "2021-12-02T16:37:30.059423Z",
     "iopub.status.busy": "2021-12-02T16:37:30.058669Z",
     "iopub.status.idle": "2021-12-02T16:37:30.065247Z",
     "shell.execute_reply": "2021-12-02T16:37:30.065767Z",
     "shell.execute_reply.started": "2021-12-02T16:35:49.483736Z"
    },
    "papermill": {
     "duration": 0.023268,
     "end_time": "2021-12-02T16:37:30.065965",
     "exception": false,
     "start_time": "2021-12-02T16:37:30.042697",
     "status": "completed"
    },
    "tags": []
   },
   "outputs": [],
   "source": [
    "test_items = get_image_files(test_path)"
   ]
  },
  {
   "cell_type": "code",
   "execution_count": 7,
   "id": "9a7d7901",
   "metadata": {
    "execution": {
     "iopub.execute_input": "2021-12-02T16:37:30.094167Z",
     "iopub.status.busy": "2021-12-02T16:37:30.093482Z",
     "iopub.status.idle": "2021-12-02T16:37:30.096306Z",
     "shell.execute_reply": "2021-12-02T16:37:30.095825Z",
     "shell.execute_reply.started": "2021-12-02T16:35:49.494137Z"
    },
    "papermill": {
     "duration": 0.019437,
     "end_time": "2021-12-02T16:37:30.096471",
     "exception": false,
     "start_time": "2021-12-02T16:37:30.077034",
     "status": "completed"
    },
    "tags": []
   },
   "outputs": [],
   "source": [
    "## Stolen (& modified) from https://www.kaggle.com/ammarnassanalhajali/sartorius-segmentation-keras-u-net-inference\n",
    "def post_process(mask,min_size=300):\n",
    "    #mask = cv2.threshold(probability, threshold, 1, cv2.THRESH_BINARY)[1]\n",
    "    num_component, component = cv2.connectedComponents(mask.astype(np.uint8))\n",
    "    predictions = []\n",
    "    for c in range(1, num_component):\n",
    "        p = (component == c).astype(np.float32)\n",
    "        if p.sum() > min_size:\n",
    "            #a_prediction = np.zeros((520, 704), np.float32)\n",
    "            #a_prediction[p] = 1\n",
    "            #predictions.append(a_prediction)\n",
    "            predictions.append(p)\n",
    "    return predictions"
   ]
  },
  {
   "cell_type": "code",
   "execution_count": 8,
   "id": "e42f9284",
   "metadata": {
    "execution": {
     "iopub.execute_input": "2021-12-02T16:37:30.125345Z",
     "iopub.status.busy": "2021-12-02T16:37:30.124514Z",
     "iopub.status.idle": "2021-12-02T16:37:30.127331Z",
     "shell.execute_reply": "2021-12-02T16:37:30.126881Z",
     "shell.execute_reply.started": "2021-12-02T16:35:49.504319Z"
    },
    "papermill": {
     "duration": 0.019642,
     "end_time": "2021-12-02T16:37:30.127493",
     "exception": false,
     "start_time": "2021-12-02T16:37:30.107851",
     "status": "completed"
    },
    "tags": []
   },
   "outputs": [],
   "source": [
    "# Stolen from: https://www.kaggle.com/arunamenon/cell-instance-segmentation-unet-eda\n",
    "# Run-length encoding stolen from https://www.kaggle.com/rakhlin/fast-run-length-encoding-python\n",
    "# Modified by someone\n",
    "def rle_encoding(x):\n",
    "    dots = np.where(x.flatten() == 1)[0]\n",
    "    run_lengths = []\n",
    "    prev = -2\n",
    "    for b in dots:\n",
    "        if (b>prev+1): run_lengths.extend((b + 1, 0))\n",
    "        run_lengths[-1] += 1\n",
    "        prev = b\n",
    "    return ' '.join(map(str, run_lengths))"
   ]
  },
  {
   "cell_type": "code",
   "execution_count": 9,
   "id": "d6f82764",
   "metadata": {
    "execution": {
     "iopub.execute_input": "2021-12-02T16:37:30.155059Z",
     "iopub.status.busy": "2021-12-02T16:37:30.154194Z",
     "iopub.status.idle": "2021-12-02T16:37:30.156787Z",
     "shell.execute_reply": "2021-12-02T16:37:30.156264Z",
     "shell.execute_reply.started": "2021-12-02T16:35:49.517319Z"
    },
    "papermill": {
     "duration": 0.018348,
     "end_time": "2021-12-02T16:37:30.156935",
     "exception": false,
     "start_time": "2021-12-02T16:37:30.138587",
     "status": "completed"
    },
    "tags": []
   },
   "outputs": [],
   "source": [
    "# Stolen from: https://www.kaggle.com/awsaf49/sartorius-fix-overlap\n",
    "# Modified to sum over 1st axis\n",
    "def check_overlap(msk):\n",
    "    msk = msk.astype(np.bool).astype(np.uint8)\n",
    "    return np.any(np.sum(msk, axis=-1)>1)"
   ]
  },
  {
   "cell_type": "code",
   "execution_count": 10,
   "id": "9d0d2bcc",
   "metadata": {
    "execution": {
     "iopub.execute_input": "2021-12-02T16:37:30.182098Z",
     "iopub.status.busy": "2021-12-02T16:37:30.181433Z",
     "iopub.status.idle": "2021-12-02T16:37:30.186165Z",
     "shell.execute_reply": "2021-12-02T16:37:30.186674Z",
     "shell.execute_reply.started": "2021-12-02T16:35:49.529899Z"
    },
    "papermill": {
     "duration": 0.018885,
     "end_time": "2021-12-02T16:37:30.186859",
     "exception": false,
     "start_time": "2021-12-02T16:37:30.167974",
     "status": "completed"
    },
    "tags": []
   },
   "outputs": [],
   "source": [
    "def my_post_process(mask, cutoff = 0.5, min_object_size = 100.):\n",
    "    lab_mask = skimage.morphology.label(mask > cutoff)\n",
    "\n",
    "    labels = set(lab_mask.flatten())\n",
    "    labels.remove(0) #remove backround label 0\n",
    "    predictions = []\n",
    "    for l in labels:\n",
    "        p = (lab_mask == l).astype(np.uint8)\n",
    "        if p.sum() >= min_object_size:\n",
    "            predictions.append(p)\n",
    "    return predictions"
   ]
  },
  {
   "cell_type": "code",
   "execution_count": 11,
   "id": "245b013f",
   "metadata": {
    "execution": {
     "iopub.execute_input": "2021-12-02T16:37:30.212248Z",
     "iopub.status.busy": "2021-12-02T16:37:30.211623Z",
     "iopub.status.idle": "2021-12-02T16:37:46.838083Z",
     "shell.execute_reply": "2021-12-02T16:37:46.837523Z",
     "shell.execute_reply.started": "2021-12-02T16:35:49.539566Z"
    },
    "papermill": {
     "duration": 16.640287,
     "end_time": "2021-12-02T16:37:46.838240",
     "exception": false,
     "start_time": "2021-12-02T16:37:30.197953",
     "status": "completed"
    },
    "tags": []
   },
   "outputs": [
    {
     "data": {
      "text/html": [],
      "text/plain": [
       "<IPython.core.display.HTML object>"
      ]
     },
     "metadata": {},
     "output_type": "display_data"
    },
    {
     "data": {
      "text/html": [],
      "text/plain": [
       "<IPython.core.display.HTML object>"
      ]
     },
     "metadata": {},
     "output_type": "display_data"
    },
    {
     "data": {
      "text/html": [],
      "text/plain": [
       "<IPython.core.display.HTML object>"
      ]
     },
     "metadata": {},
     "output_type": "display_data"
    }
   ],
   "source": [
    "submission = []\n",
    "for fn in test_items:\n",
    "    pred = learn.predict(fn)\n",
    "    pred_mask = pred[0].numpy().astype(np.uint8)\n",
    "    resized_mask = np.array(Image.fromarray(pred_mask).resize((704, 520), resample = Image.BILINEAR))#NEAREST))\n",
    "    #instance_predictions = post_process(resized_mask)\n",
    "    instance_predictions = my_post_process(resized_mask)\n",
    "    ##& annoying\n",
    "    if len(instance_predictions) == 0:\n",
    "        submission.append((fn.stem, ''))\n",
    "    else:\n",
    "        stacked_predictions = np.stack(instance_predictions, axis = -1)\n",
    "        if check_overlap(stacked_predictions):\n",
    "            submission.append((fn.stem, ''))\n",
    "        else:\n",
    "    ##&\n",
    "            for instance in listify(instance_predictions):\n",
    "                submission.append((fn.stem, rle_encoding(instance)))"
   ]
  },
  {
   "cell_type": "code",
   "execution_count": 12,
   "id": "c86c2a1c",
   "metadata": {
    "execution": {
     "iopub.execute_input": "2021-12-02T16:37:46.876005Z",
     "iopub.status.busy": "2021-12-02T16:37:46.875295Z",
     "iopub.status.idle": "2021-12-02T16:37:46.886773Z",
     "shell.execute_reply": "2021-12-02T16:37:46.887783Z",
     "shell.execute_reply.started": "2021-12-02T16:36:07.366025Z"
    },
    "papermill": {
     "duration": 0.036328,
     "end_time": "2021-12-02T16:37:46.887986",
     "exception": false,
     "start_time": "2021-12-02T16:37:46.851658",
     "status": "completed"
    },
    "tags": []
   },
   "outputs": [
    {
     "data": {
      "text/html": [
       "<div>\n",
       "<style scoped>\n",
       "    .dataframe tbody tr th:only-of-type {\n",
       "        vertical-align: middle;\n",
       "    }\n",
       "\n",
       "    .dataframe tbody tr th {\n",
       "        vertical-align: top;\n",
       "    }\n",
       "\n",
       "    .dataframe thead th {\n",
       "        text-align: right;\n",
       "    }\n",
       "</style>\n",
       "<table border=\"1\" class=\"dataframe\">\n",
       "  <thead>\n",
       "    <tr style=\"text-align: right;\">\n",
       "      <th></th>\n",
       "      <th>id</th>\n",
       "      <th>predicted</th>\n",
       "    </tr>\n",
       "  </thead>\n",
       "  <tbody>\n",
       "    <tr>\n",
       "      <th>0</th>\n",
       "      <td>7ae19de7bc2a</td>\n",
       "      <td>49 2 60 14 753 4 762 16 1457 25 2160 27 2864 26 3569 25 4273 24 4976 25 5680 23 6384 21 7088 19 7791 18 8495 16 9198 15 9901 15 10605 13 11308 13 12011 13 12715 12 13418 12 14122 11 14825 11 15528 11 16232 11 16935 12 17639 12 18342 13 19045 15 19748 16 20452 16 21155 17 21858 17 22561 17 23265 15 23968 13 24673 8 25377 4</td>\n",
       "    </tr>\n",
       "    <tr>\n",
       "      <th>1</th>\n",
       "      <td>7ae19de7bc2a</td>\n",
       "      <td>137 20 842 19 1546 18 2251 16 2955 15 3660 9 4365 5 5070 3</td>\n",
       "    </tr>\n",
       "    <tr>\n",
       "      <th>2</th>\n",
       "      <td>7ae19de7bc2a</td>\n",
       "      <td>274 7 979 8 1684 10 2389 11 3094 13 3798 15 4502 16 5207 16 5911 17 6616 18 7320 19 8025 20 8730 19 9434 21 10139 20 10844 19 11549 18 12253 18 12958 17 13662 17 14367 15 15071 15 15776 14 16480 14 17185 13 17890 12 18594 12 19299 11 20004 10 20708 10 21413 8 22117 7 22822 5 23527 3</td>\n",
       "    </tr>\n",
       "    <tr>\n",
       "      <th>3</th>\n",
       "      <td>7ae19de7bc2a</td>\n",
       "      <td>446 7 1151 6 1854 8 2558 10 3263 10 3966 11 4670 12 5374 13 6078 13 6782 13 7486 13 8191 12 8895 12 9599 12 10303 12 11008 9 11713 5 12419 1</td>\n",
       "    </tr>\n",
       "    <tr>\n",
       "      <th>4</th>\n",
       "      <td>7ae19de7bc2a</td>\n",
       "      <td>490 17 515 18 1195 21 1219 18 1901 41 2606 19 2627 19 3310 19 3334 17 4014 19 4039 16 4717 20 4743 16 5421 20 5448 15 6125 19 6152 15 6829 19 6857 14 7534 19 7562 14 8239 18 8266 14 8943 18 8971 13 9648 17 9676 12 10353 16 10381 12 11057 16 11086 11 11761 16 11792 9 12466 14 12497 8 13176 7 13202 7 13881 4 13907 6 14612 5 15317 3</td>\n",
       "    </tr>\n",
       "  </tbody>\n",
       "</table>\n",
       "</div>"
      ],
      "text/plain": [
       "             id  \\\n",
       "0  7ae19de7bc2a   \n",
       "1  7ae19de7bc2a   \n",
       "2  7ae19de7bc2a   \n",
       "3  7ae19de7bc2a   \n",
       "4  7ae19de7bc2a   \n",
       "\n",
       "                                                                                                                                                                                                                                                                                                                                     predicted  \n",
       "0          49 2 60 14 753 4 762 16 1457 25 2160 27 2864 26 3569 25 4273 24 4976 25 5680 23 6384 21 7088 19 7791 18 8495 16 9198 15 9901 15 10605 13 11308 13 12011 13 12715 12 13418 12 14122 11 14825 11 15528 11 16232 11 16935 12 17639 12 18342 13 19045 15 19748 16 20452 16 21155 17 21858 17 22561 17 23265 15 23968 13 24673 8 25377 4  \n",
       "1                                                                                                                                                                                                                                                                                   137 20 842 19 1546 18 2251 16 2955 15 3660 9 4365 5 5070 3  \n",
       "2                                                  274 7 979 8 1684 10 2389 11 3094 13 3798 15 4502 16 5207 16 5911 17 6616 18 7320 19 8025 20 8730 19 9434 21 10139 20 10844 19 11549 18 12253 18 12958 17 13662 17 14367 15 15071 15 15776 14 16480 14 17185 13 17890 12 18594 12 19299 11 20004 10 20708 10 21413 8 22117 7 22822 5 23527 3  \n",
       "3                                                                                                                                                                                                 446 7 1151 6 1854 8 2558 10 3263 10 3966 11 4670 12 5374 13 6078 13 6782 13 7486 13 8191 12 8895 12 9599 12 10303 12 11008 9 11713 5 12419 1  \n",
       "4  490 17 515 18 1195 21 1219 18 1901 41 2606 19 2627 19 3310 19 3334 17 4014 19 4039 16 4717 20 4743 16 5421 20 5448 15 6125 19 6152 15 6829 19 6857 14 7534 19 7562 14 8239 18 8266 14 8943 18 8971 13 9648 17 9676 12 10353 16 10381 12 11057 16 11086 11 11761 16 11792 9 12466 14 12497 8 13176 7 13202 7 13881 4 13907 6 14612 5 15317 3  "
      ]
     },
     "execution_count": 12,
     "metadata": {},
     "output_type": "execute_result"
    }
   ],
   "source": [
    "df = pd.DataFrame(submission, columns=['id', 'predicted'])\n",
    "df.head()"
   ]
  },
  {
   "cell_type": "code",
   "execution_count": 13,
   "id": "3733fdf3",
   "metadata": {
    "execution": {
     "iopub.execute_input": "2021-12-02T16:37:46.917076Z",
     "iopub.status.busy": "2021-12-02T16:37:46.916150Z",
     "iopub.status.idle": "2021-12-02T16:37:46.925211Z",
     "shell.execute_reply": "2021-12-02T16:37:46.925696Z",
     "shell.execute_reply.started": "2021-12-02T16:36:07.387647Z"
    },
    "papermill": {
     "duration": 0.025293,
     "end_time": "2021-12-02T16:37:46.925893",
     "exception": false,
     "start_time": "2021-12-02T16:37:46.900600",
     "status": "completed"
    },
    "tags": []
   },
   "outputs": [],
   "source": [
    "df.to_csv('submission.csv', index = False)"
   ]
  },
  {
   "cell_type": "code",
   "execution_count": null,
   "id": "71d7a240",
   "metadata": {
    "papermill": {
     "duration": 0.013323,
     "end_time": "2021-12-02T16:37:46.952125",
     "exception": false,
     "start_time": "2021-12-02T16:37:46.938802",
     "status": "completed"
    },
    "tags": []
   },
   "outputs": [],
   "source": []
  },
  {
   "cell_type": "code",
   "execution_count": null,
   "id": "7bfaa16e",
   "metadata": {
    "papermill": {
     "duration": 0.012154,
     "end_time": "2021-12-02T16:37:46.976914",
     "exception": false,
     "start_time": "2021-12-02T16:37:46.964760",
     "status": "completed"
    },
    "tags": []
   },
   "outputs": [],
   "source": []
  }
 ],
 "metadata": {
  "kernelspec": {
   "display_name": "Python 3",
   "language": "python",
   "name": "python3"
  },
  "language_info": {
   "codemirror_mode": {
    "name": "ipython",
    "version": 3
   },
   "file_extension": ".py",
   "mimetype": "text/x-python",
   "name": "python",
   "nbconvert_exporter": "python",
   "pygments_lexer": "ipython3",
   "version": "3.8.11"
  },
  "papermill": {
   "default_parameters": {},
   "duration": 50.521959,
   "end_time": "2021-12-02T16:37:50.565018",
   "environment_variables": {},
   "exception": null,
   "input_path": "__notebook__.ipynb",
   "output_path": "__notebook__.ipynb",
   "parameters": {},
   "start_time": "2021-12-02T16:37:00.043059",
   "version": "2.3.3"
  }
 },
 "nbformat": 4,
 "nbformat_minor": 5
}
