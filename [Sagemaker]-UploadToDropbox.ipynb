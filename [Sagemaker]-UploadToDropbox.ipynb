{
 "cells": [
  {
   "cell_type": "code",
   "execution_count": 1,
   "id": "8325aed9-d050-49e0-8160-849224da1816",
   "metadata": {},
   "outputs": [],
   "source": [
    "#%pip install dropbox"
   ]
  },
  {
   "cell_type": "code",
   "execution_count": 2,
   "id": "53435fec-2675-4672-ab6d-1ce2f55a3e69",
   "metadata": {},
   "outputs": [],
   "source": [
    "#%pip install tqdm"
   ]
  },
  {
   "cell_type": "code",
   "execution_count": 3,
   "id": "ff597748-1d9c-4f5b-8415-c4eafa4467b4",
   "metadata": {},
   "outputs": [],
   "source": [
    "import dropbox\n",
    "from dropbox import DropboxOAuth2FlowNoRedirect\n",
    "\n",
    "import os\n",
    "from tqdm import tqdm"
   ]
  },
  {
   "cell_type": "code",
   "execution_count": 4,
   "id": "9d630616-75b9-4076-aed8-1a79711f4e3b",
   "metadata": {},
   "outputs": [],
   "source": [
    "APP_KEY = ''\n",
    "APP_SECRET = ''"
   ]
  },
  {
   "cell_type": "code",
   "execution_count": 5,
   "id": "13b82350-2327-43c0-815a-05f3a68b818b",
   "metadata": {},
   "outputs": [],
   "source": [
    "auth_flow = DropboxOAuth2FlowNoRedirect(APP_KEY, APP_SECRET)"
   ]
  },
  {
   "cell_type": "code",
   "execution_count": 6,
   "id": "d5bc0430-f0e4-4118-a15f-763425d56eda",
   "metadata": {},
   "outputs": [],
   "source": [
    "authorize_url = auth_flow.start()"
   ]
  },
  {
   "cell_type": "code",
   "execution_count": 7,
   "id": "6b366341-2b90-410d-8caa-cc563b6be753",
   "metadata": {},
   "outputs": [
    {
     "data": {
      "text/plain": [
       "'https://www.dropbox.com/oauth2/authorize?response_type=code&client_id=8i9m6sgxepa8f8o'"
      ]
     },
     "execution_count": 7,
     "metadata": {},
     "output_type": "execute_result"
    }
   ],
   "source": [
    "authorize_url"
   ]
  },
  {
   "cell_type": "code",
   "execution_count": 13,
   "id": "9bbcde84-326c-4c26-9338-8ff1cf12f934",
   "metadata": {},
   "outputs": [],
   "source": [
    "auth_code = input('Enter code here').strip()"
   ]
  },
  {
   "cell_type": "code",
   "execution_count": 14,
   "id": "9be7415a-2fe9-4db9-9de4-6ed9fe9546a9",
   "metadata": {},
   "outputs": [],
   "source": [
    "try:\n",
    "    oauth_result = auth_flow.finish(auth_code)\n",
    "except Exception as e:\n",
    "    print('Error: %s' % (e, ))\n",
    "    exit(1)"
   ]
  },
  {
   "cell_type": "code",
   "execution_count": 18,
   "id": "b2e28f77-b714-4cb2-8087-d41ad7fd9572",
   "metadata": {},
   "outputs": [],
   "source": [
    "file_from = '/home/studio-lab-user/SartoriusCellSegmentation/models/modelfull50eposcycle.pth'\n",
    "file_to = '/modelfull50eposcycle.pth'"
   ]
  },
  {
   "cell_type": "code",
   "execution_count": 19,
   "id": "3dc4d613-4158-45ce-96a8-2a6a9e114f2f",
   "metadata": {},
   "outputs": [],
   "source": [
    "def upload(\n",
    "    access_token,\n",
    "    file_path,\n",
    "    target_path,\n",
    "    timeout=900,\n",
    "    chunk_size=4 * 1024 * 1024,\n",
    "):\n",
    "    dbx = dropbox.Dropbox(access_token, timeout=timeout)\n",
    "    with open(file_path, \"rb\") as f:\n",
    "        file_size = os.path.getsize(file_path)\n",
    "        chunk_size = 4 * 1024 * 1024\n",
    "        if file_size <= chunk_size:\n",
    "            print(dbx.files_upload(f.read(), target_path))\n",
    "        else:\n",
    "            with tqdm(total=file_size, desc=\"Uploaded\") as pbar:\n",
    "                upload_session_start_result = dbx.files_upload_session_start(\n",
    "                    f.read(chunk_size)\n",
    "                )\n",
    "                pbar.update(chunk_size)\n",
    "                cursor = dropbox.files.UploadSessionCursor(\n",
    "                    session_id=upload_session_start_result.session_id,\n",
    "                    offset=f.tell(),\n",
    "                )\n",
    "                commit = dropbox.files.CommitInfo(path=target_path)\n",
    "                while f.tell() < file_size:\n",
    "                    if (file_size - f.tell()) <= chunk_size:\n",
    "                        print(\n",
    "                            dbx.files_upload_session_finish(\n",
    "                                f.read(chunk_size), cursor, commit\n",
    "                            )\n",
    "                        )\n",
    "                    else:\n",
    "                        dbx.files_upload_session_append(\n",
    "                            f.read(chunk_size),\n",
    "                            cursor.session_id,\n",
    "                            cursor.offset,\n",
    "                        )\n",
    "                        cursor.offset = f.tell()\n",
    "                    pbar.update(chunk_size)"
   ]
  },
  {
   "cell_type": "code",
   "execution_count": 20,
   "id": "e20169fa-0d64-494c-bab2-3349b91c09aa",
   "metadata": {},
   "outputs": [
    {
     "name": "stderr",
     "output_type": "stream",
     "text": [
      "Uploaded: 352321536it [02:19, 2522619.36it/s]                               "
     ]
    },
    {
     "name": "stdout",
     "output_type": "stream",
     "text": [
      "FileMetadata(client_modified=datetime.datetime(2021, 12, 21, 17, 35, 46), content_hash='507bb5f893ae4512cc641fe2ac6436df19858df8ce0dd69eed61ca5adf015fae', export_info=NOT_SET, file_lock_info=NOT_SET, has_explicit_shared_members=NOT_SET, id='id:H0kgas51ERAAAAAAAAAVkQ', is_downloadable=True, media_info=NOT_SET, name='modelfull50eposcycle.pth', parent_shared_folder_id=NOT_SET, path_display='/modelfull50eposcycle.pth', path_lower='/modelfull50eposcycle.pth', property_groups=NOT_SET, rev='015d3ab6f7702da00000002556acd50', server_modified=datetime.datetime(2021, 12, 21, 17, 35, 46), sharing_info=NOT_SET, size=351103347, symlink_info=NOT_SET)\n"
     ]
    },
    {
     "name": "stderr",
     "output_type": "stream",
     "text": [
      "\n"
     ]
    }
   ],
   "source": [
    "upload(oauth_result.access_token, file_from, file_to)"
   ]
  },
  {
   "cell_type": "code",
   "execution_count": null,
   "id": "4b46347e-6ce0-4bc8-b244-46fa4573e06b",
   "metadata": {},
   "outputs": [],
   "source": []
  }
 ],
 "metadata": {
  "kernelspec": {
   "display_name": "exp:Python",
   "language": "python",
   "name": "conda-env-exp-py"
  },
  "language_info": {
   "codemirror_mode": {
    "name": "ipython",
    "version": 3
   },
   "file_extension": ".py",
   "mimetype": "text/x-python",
   "name": "python",
   "nbconvert_exporter": "python",
   "pygments_lexer": "ipython3",
   "version": "3.9.7"
  }
 },
 "nbformat": 4,
 "nbformat_minor": 5
}
