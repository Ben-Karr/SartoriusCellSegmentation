{
 "cells": [
  {
   "cell_type": "code",
   "execution_count": 1,
   "metadata": {
    "execution": {
     "iopub.execute_input": "2021-11-14T11:47:04.760515Z",
     "iopub.status.busy": "2021-11-14T11:47:04.760004Z",
     "iopub.status.idle": "2021-11-14T11:48:22.754686Z",
     "shell.execute_reply": "2021-11-14T11:48:22.753315Z",
     "shell.execute_reply.started": "2021-11-14T11:47:04.760407Z"
    }
   },
   "outputs": [],
   "source": [
    "#!pip install --user torch==1.9.0 torchvision==0.10.0 torchaudio==0.9.0 torchtext==0.10.0"
   ]
  },
  {
   "cell_type": "code",
   "execution_count": 15,
   "metadata": {
    "_cell_guid": "b1076dfc-b9ad-4769-8c92-a6c4dae69d19",
    "_uuid": "8f2839f25d086af736a60e9eeb907d3b93b6e0e5",
    "execution": {
     "iopub.execute_input": "2021-11-14T11:48:22.759174Z",
     "iopub.status.busy": "2021-11-14T11:48:22.758572Z",
     "iopub.status.idle": "2021-11-14T11:48:24.699264Z",
     "shell.execute_reply": "2021-11-14T11:48:24.6983Z",
     "shell.execute_reply.started": "2021-11-14T11:48:22.759123Z"
    }
   },
   "outputs": [],
   "source": [
    "from fastai.vision.all import *\n",
    "import tqdm\n",
    "\n",
    "from timm import create_model\n",
    "from fastai.vision.learner import _update_first_layer"
   ]
  },
  {
   "cell_type": "code",
   "execution_count": 2,
   "metadata": {
    "execution": {
     "iopub.execute_input": "2021-11-14T11:48:24.701178Z",
     "iopub.status.busy": "2021-11-14T11:48:24.700917Z",
     "iopub.status.idle": "2021-11-14T11:48:25.244834Z",
     "shell.execute_reply": "2021-11-14T11:48:25.243748Z",
     "shell.execute_reply.started": "2021-11-14T11:48:24.701141Z"
    }
   },
   "outputs": [],
   "source": [
    "stage = 'train'\n",
    "path = Path('src')\n",
    "img_path = path / stage\n",
    "\n",
    "mask_path = Path('src/masks')\n",
    "\n",
    "df = pd.read_csv(path / f'{stage}.csv')"
   ]
  },
  {
   "cell_type": "code",
   "execution_count": 3,
   "metadata": {
    "execution": {
     "iopub.execute_input": "2021-11-14T11:48:25.247827Z",
     "iopub.status.busy": "2021-11-14T11:48:25.247514Z",
     "iopub.status.idle": "2021-11-14T11:48:25.275097Z",
     "shell.execute_reply": "2021-11-14T11:48:25.27411Z",
     "shell.execute_reply.started": "2021-11-14T11:48:25.247784Z"
    }
   },
   "outputs": [
    {
     "data": {
      "text/html": [
       "<div>\n",
       "<style scoped>\n",
       "    .dataframe tbody tr th:only-of-type {\n",
       "        vertical-align: middle;\n",
       "    }\n",
       "\n",
       "    .dataframe tbody tr th {\n",
       "        vertical-align: top;\n",
       "    }\n",
       "\n",
       "    .dataframe thead th {\n",
       "        text-align: right;\n",
       "    }\n",
       "</style>\n",
       "<table border=\"1\" class=\"dataframe\">\n",
       "  <thead>\n",
       "    <tr style=\"text-align: right;\">\n",
       "      <th></th>\n",
       "      <th>id</th>\n",
       "      <th>annotation</th>\n",
       "      <th>width</th>\n",
       "      <th>height</th>\n",
       "      <th>cell_type</th>\n",
       "      <th>plate_time</th>\n",
       "      <th>sample_date</th>\n",
       "      <th>sample_id</th>\n",
       "      <th>elapsed_timedelta</th>\n",
       "    </tr>\n",
       "  </thead>\n",
       "  <tbody>\n",
       "    <tr>\n",
       "      <th>0</th>\n",
       "      <td>0030fd0e6378</td>\n",
       "      <td>118145 6 118849 7 119553 8 120257 8 120961 9 121665 10 122369 12 123074 13 123778 14 124482 15 125186 16 125890 17 126594 18 127298 19 128002 20 128706 21 129410 22 130114 23 130818 24 131523 24 132227 25 132931 25 133635 24 134339 24 135043 23 135748 21 136452 19 137157 16 137864 11 138573 4</td>\n",
       "      <td>704</td>\n",
       "      <td>520</td>\n",
       "      <td>shsy5y</td>\n",
       "      <td>11h30m00s</td>\n",
       "      <td>2019-06-16</td>\n",
       "      <td>shsy5y[diff]_E10-4_Vessel-714_Ph_3</td>\n",
       "      <td>0 days 11:30:00</td>\n",
       "    </tr>\n",
       "  </tbody>\n",
       "</table>\n",
       "</div>"
      ],
      "text/plain": [
       "             id  \\\n",
       "0  0030fd0e6378   \n",
       "\n",
       "                                                                                                                                                                                                                                                                                              annotation  \\\n",
       "0  118145 6 118849 7 119553 8 120257 8 120961 9 121665 10 122369 12 123074 13 123778 14 124482 15 125186 16 125890 17 126594 18 127298 19 128002 20 128706 21 129410 22 130114 23 130818 24 131523 24 132227 25 132931 25 133635 24 134339 24 135043 23 135748 21 136452 19 137157 16 137864 11 138573 4   \n",
       "\n",
       "   width  height cell_type plate_time sample_date  \\\n",
       "0    704     520    shsy5y  11h30m00s  2019-06-16   \n",
       "\n",
       "                            sample_id elapsed_timedelta  \n",
       "0  shsy5y[diff]_E10-4_Vessel-714_Ph_3   0 days 11:30:00  "
      ]
     },
     "execution_count": 3,
     "metadata": {},
     "output_type": "execute_result"
    }
   ],
   "source": [
    "df.head(1)"
   ]
  },
  {
   "cell_type": "code",
   "execution_count": 4,
   "metadata": {
    "execution": {
     "iopub.execute_input": "2021-11-14T11:48:25.277038Z",
     "iopub.status.busy": "2021-11-14T11:48:25.276699Z",
     "iopub.status.idle": "2021-11-14T11:48:25.28283Z",
     "shell.execute_reply": "2021-11-14T11:48:25.281224Z",
     "shell.execute_reply.started": "2021-11-14T11:48:25.276996Z"
    }
   },
   "outputs": [],
   "source": [
    "def label_func(fn):\n",
    "    return mask_path / fn.name"
   ]
  },
  {
   "cell_type": "code",
   "execution_count": 5,
   "metadata": {
    "execution": {
     "iopub.execute_input": "2021-11-14T11:48:25.286173Z",
     "iopub.status.busy": "2021-11-14T11:48:25.284948Z",
     "iopub.status.idle": "2021-11-14T11:48:25.389521Z",
     "shell.execute_reply": "2021-11-14T11:48:25.388607Z",
     "shell.execute_reply.started": "2021-11-14T11:48:25.286125Z"
    }
   },
   "outputs": [],
   "source": [
    "items = get_image_files(img_path)\n",
    "fn = items[0]\n",
    "img_rgb = load_image(fn)\n",
    "img_gray = load_image(fn, mode = 'L')"
   ]
  },
  {
   "cell_type": "code",
   "execution_count": 6,
   "metadata": {
    "execution": {
     "iopub.execute_input": "2021-11-14T11:48:25.392453Z",
     "iopub.status.busy": "2021-11-14T11:48:25.3918Z",
     "iopub.status.idle": "2021-11-14T11:48:25.406817Z",
     "shell.execute_reply": "2021-11-14T11:48:25.405536Z",
     "shell.execute_reply.started": "2021-11-14T11:48:25.392393Z"
    }
   },
   "outputs": [],
   "source": [
    "# ref: https://www.kaggle.com/inversion/run-length-decoding-quick-start\n",
    "def rle_decode(mask_rle, shape, color=1):\n",
    "    '''\n",
    "    mask_rle: run-length as string formated (start length)\n",
    "    shape: (height, width, channels) of array to return \n",
    "    color: color for the mask\n",
    "    Returns numpy array (mask)\n",
    "\n",
    "    '''\n",
    "    s = mask_rle.split()\n",
    "    \n",
    "    starts = list(map(lambda x: int(x) - 1, s[0::2]))\n",
    "    lengths = list(map(int, s[1::2]))\n",
    "    ends = [x + y for x, y in zip(starts, lengths)]\n",
    "    \n",
    "    tmp_shape = (shape[0] * shape[1], shape[2]) if len(shape) == 3 else shape[0] * shape[1]\n",
    "    \n",
    "    img = np.zeros(tmp_shape, dtype=np.float32)\n",
    "            \n",
    "    for start, end in zip(starts, ends):\n",
    "        img[start : end] = color\n",
    "    \n",
    "    return img.reshape(shape)"
   ]
  },
  {
   "cell_type": "code",
   "execution_count": 7,
   "metadata": {
    "execution": {
     "iopub.execute_input": "2021-11-14T11:48:25.410531Z",
     "iopub.status.busy": "2021-11-14T11:48:25.409334Z",
     "iopub.status.idle": "2021-11-14T11:48:25.423079Z",
     "shell.execute_reply": "2021-11-14T11:48:25.421789Z",
     "shell.execute_reply.started": "2021-11-14T11:48:25.410487Z"
    }
   },
   "outputs": [],
   "source": [
    "db = DataBlock(\n",
    "    blocks = (ImageBlock(), MaskBlock(codes = np.array(['bg', 'cell']))),\n",
    "    get_items = get_image_files,\n",
    "    get_y = label_func,\n",
    "    splitter = RandomSplitter(),\n",
    "    item_tfms = Resize((448, 606)),\n",
    "    batch_tfms = aug_transforms(size = (224, 303), flip_vert = True, max_rotate = 180., p_lighting = 0., max_warp = 0.)\n",
    ")"
   ]
  },
  {
   "cell_type": "code",
   "execution_count": 8,
   "metadata": {
    "execution": {
     "iopub.execute_input": "2021-11-14T11:48:25.424945Z",
     "iopub.status.busy": "2021-11-14T11:48:25.42459Z",
     "iopub.status.idle": "2021-11-14T11:48:28.464549Z",
     "shell.execute_reply": "2021-11-14T11:48:28.462083Z",
     "shell.execute_reply.started": "2021-11-14T11:48:25.424873Z"
    }
   },
   "outputs": [
    {
     "name": "stderr",
     "output_type": "stream",
     "text": [
      "/home/karrrrrrrr/miniconda3/envs/fastai/lib/python3.8/site-packages/torch/_tensor.py:575: UserWarning: floor_divide is deprecated, and will be removed in a future version of pytorch. It currently rounds toward 0 (like the 'trunc' function NOT 'floor'). This results in incorrect rounding for negative values.\n",
      "To keep the current behavior, use torch.div(a, b, rounding_mode='trunc'), or for actual floor division, use torch.div(a, b, rounding_mode='floor'). (Triggered internally at  /opt/conda/conda-bld/pytorch_1631630815121/work/aten/src/ATen/native/BinaryOps.cpp:467.)\n",
      "  return torch.floor_divide(self, other)\n"
     ]
    }
   ],
   "source": [
    "dls = db.dataloaders(img_path, bs = 1)"
   ]
  },
  {
   "cell_type": "code",
   "execution_count": 9,
   "metadata": {
    "execution": {
     "iopub.execute_input": "2021-11-14T11:48:28.468875Z",
     "iopub.status.busy": "2021-11-14T11:48:28.467935Z",
     "iopub.status.idle": "2021-11-14T11:48:29.485596Z",
     "shell.execute_reply": "2021-11-14T11:48:29.484664Z",
     "shell.execute_reply.started": "2021-11-14T11:48:28.468826Z"
    },
    "scrolled": true
   },
   "outputs": [
    {
     "data": {
      "image/png": "[encoded data removed]",
      "text/plain": [
       "<Figure size 216x216 with 1 Axes>"
      ]
     },
     "metadata": {
      "needs_background": "light"
     },
     "output_type": "display_data"
    }
   ],
   "source": [
    "dls.show_batch(unique = True)"
   ]
  },
  {
   "cell_type": "code",
   "execution_count": 11,
   "metadata": {},
   "outputs": [],
   "source": [
    "def create_timm_body(arch:str, pretrained=True, cut=None, n_in=3):\n",
    "    \"Creates a body from any model in the `timm` library.\"\n",
    "    model = create_model(arch, pretrained=pretrained, num_classes=0, global_pool='')\n",
    "    _update_first_layer(model, n_in, pretrained)\n",
    "    if cut is None:\n",
    "        ll = list(enumerate(model.children()))\n",
    "        cut = next(i for i,o in reversed(ll) if has_pool_type(o))\n",
    "    if isinstance(cut, int): return nn.Sequential(*list(model.children())[:cut])\n",
    "    elif callable(cut): return cut(model)\n",
    "    else: raise NamedError(\"cut must be either integer or function\")"
   ]
  },
  {
   "cell_type": "code",
   "execution_count": 16,
   "metadata": {},
   "outputs": [],
   "source": [
    "arch = 'efficientnet_b3a'\n",
    "body = create_timm_body(arch, pretrained = True)"
   ]
  },
  {
   "cell_type": "code",
   "execution_count": 30,
   "metadata": {},
   "outputs": [],
   "source": [
    "n_out = get_c(dls)\n",
    "img_size = dls.one_batch()[0].shape[-2:]\n",
    "model = models.unet.DynamicUnet(body, n_out, img_size)"
   ]
  },
  {
   "cell_type": "code",
   "execution_count": 31,
   "metadata": {
    "execution": {
     "iopub.execute_input": "2021-11-14T11:48:29.48696Z",
     "iopub.status.busy": "2021-11-14T11:48:29.486723Z",
     "iopub.status.idle": "2021-11-14T11:48:55.711518Z",
     "shell.execute_reply": "2021-11-14T11:48:55.71051Z",
     "shell.execute_reply.started": "2021-11-14T11:48:29.486925Z"
    }
   },
   "outputs": [],
   "source": [
    "#learn = unet_learner(\n",
    "#    dls, \n",
    "#    #xresnet50, \n",
    "#    metrics = Dice\n",
    "#).to_fp16()\n",
    "#learn.lr_find()"
   ]
  },
  {
   "cell_type": "code",
   "execution_count": 32,
   "metadata": {},
   "outputs": [],
   "source": [
    "learn = Learner(\n",
    "    dls = dls,\n",
    "    model = model,\n",
    "    metrics = Dice\n",
    ")"
   ]
  },
  {
   "cell_type": "code",
   "execution_count": 33,
   "metadata": {},
   "outputs": [
    {
     "data": {
      "text/html": [],
      "text/plain": [
       "<IPython.core.display.HTML object>"
      ]
     },
     "metadata": {},
     "output_type": "display_data"
    },
    {
     "data": {
      "text/plain": [
       "SuggestedLRs(lr_min=2.290867705596611e-05, lr_steep=6.918309736647643e-06)"
      ]
     },
     "execution_count": 33,
     "metadata": {},
     "output_type": "execute_result"
    },
    {
     "data": {
      "image/png": "[encoded data removed]",
      "text/plain": [
       "<Figure size 432x288 with 1 Axes>"
      ]
     },
     "metadata": {
      "needs_background": "light"
     },
     "output_type": "display_data"
    }
   ],
   "source": [
    "learn.lr_find()"
   ]
  },
  {
   "cell_type": "code",
   "execution_count": 34,
   "metadata": {
    "execution": {
     "iopub.execute_input": "2021-11-14T11:48:55.713248Z",
     "iopub.status.busy": "2021-11-14T11:48:55.712952Z",
     "iopub.status.idle": "2021-11-14T12:35:21.694805Z",
     "shell.execute_reply": "2021-11-14T12:35:21.693682Z",
     "shell.execute_reply.started": "2021-11-14T11:48:55.713208Z"
    }
   },
   "outputs": [
    {
     "data": {
      "text/html": [
       "<table border=\"1\" class=\"dataframe\">\n",
       "  <thead>\n",
       "    <tr style=\"text-align: left;\">\n",
       "      <th>epoch</th>\n",
       "      <th>train_loss</th>\n",
       "      <th>valid_loss</th>\n",
       "      <th>dice</th>\n",
       "      <th>time</th>\n",
       "    </tr>\n",
       "  </thead>\n",
       "  <tbody>\n",
       "    <tr>\n",
       "      <td>0</td>\n",
       "      <td>0.282459</td>\n",
       "      <td>2.724616</td>\n",
       "      <td>0.078143</td>\n",
       "      <td>02:29</td>\n",
       "    </tr>\n",
       "  </tbody>\n",
       "</table>"
      ],
      "text/plain": [
       "<IPython.core.display.HTML object>"
      ]
     },
     "metadata": {},
     "output_type": "display_data"
    },
    {
     "data": {
      "text/html": [
       "<table border=\"1\" class=\"dataframe\">\n",
       "  <thead>\n",
       "    <tr style=\"text-align: left;\">\n",
       "      <th>epoch</th>\n",
       "      <th>train_loss</th>\n",
       "      <th>valid_loss</th>\n",
       "      <th>dice</th>\n",
       "      <th>time</th>\n",
       "    </tr>\n",
       "  </thead>\n",
       "  <tbody>\n",
       "    <tr>\n",
       "      <td>0</td>\n",
       "      <td>0.276106</td>\n",
       "      <td>1.747627</td>\n",
       "      <td>0.097150</td>\n",
       "      <td>02:30</td>\n",
       "    </tr>\n",
       "    <tr>\n",
       "      <td>1</td>\n",
       "      <td>0.223331</td>\n",
       "      <td>19.589226</td>\n",
       "      <td>0.152777</td>\n",
       "      <td>02:38</td>\n",
       "    </tr>\n",
       "    <tr>\n",
       "      <td>2</td>\n",
       "      <td>0.189458</td>\n",
       "      <td>4.871296</td>\n",
       "      <td>0.325074</td>\n",
       "      <td>02:39</td>\n",
       "    </tr>\n",
       "    <tr>\n",
       "      <td>3</td>\n",
       "      <td>0.169005</td>\n",
       "      <td>10.053051</td>\n",
       "      <td>0.366684</td>\n",
       "      <td>02:35</td>\n",
       "    </tr>\n",
       "    <tr>\n",
       "      <td>4</td>\n",
       "      <td>0.214290</td>\n",
       "      <td>6.878629</td>\n",
       "      <td>0.444293</td>\n",
       "      <td>02:32</td>\n",
       "    </tr>\n",
       "  </tbody>\n",
       "</table>"
      ],
      "text/plain": [
       "<IPython.core.display.HTML object>"
      ]
     },
     "metadata": {},
     "output_type": "display_data"
    }
   ],
   "source": [
    "learn.fine_tune(5, 3e-5)"
   ]
  },
  {
   "cell_type": "code",
   "execution_count": 35,
   "metadata": {
    "execution": {
     "iopub.execute_input": "2021-11-14T12:35:21.697336Z",
     "iopub.status.busy": "2021-11-14T12:35:21.696955Z",
     "iopub.status.idle": "2021-11-14T12:35:25.881633Z",
     "shell.execute_reply": "2021-11-14T12:35:25.880472Z",
     "shell.execute_reply.started": "2021-11-14T12:35:21.697257Z"
    }
   },
   "outputs": [],
   "source": [
    "learn.export('unet_effnetb3a')"
   ]
  },
  {
   "cell_type": "code",
   "execution_count": null,
   "metadata": {
    "execution": {
     "iopub.execute_input": "2021-11-14T12:39:03.529208Z",
     "iopub.status.busy": "2021-11-14T12:39:03.528788Z",
     "iopub.status.idle": "2021-11-14T12:39:03.539401Z",
     "shell.execute_reply": "2021-11-14T12:39:03.538194Z",
     "shell.execute_reply.started": "2021-11-14T12:39:03.529167Z"
    }
   },
   "outputs": [],
   "source": []
  },
  {
   "cell_type": "code",
   "execution_count": null,
   "metadata": {},
   "outputs": [],
   "source": []
  }
 ],
 "metadata": {
  "kernelspec": {
   "display_name": "fastai",
   "language": "python",
   "name": "fastai"
  },
  "language_info": {
   "codemirror_mode": {
    "name": "ipython",
    "version": 3
   },
   "file_extension": ".py",
   "mimetype": "text/x-python",
   "name": "python",
   "nbconvert_exporter": "python",
   "pygments_lexer": "ipython3",
   "version": "3.8.8"
  }
 },
 "nbformat": 4,
 "nbformat_minor": 4
}
